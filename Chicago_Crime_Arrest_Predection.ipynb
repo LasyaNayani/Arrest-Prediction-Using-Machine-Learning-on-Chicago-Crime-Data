{
  "nbformat": 4,
  "nbformat_minor": 0,
  "metadata": {
    "colab": {
      "provenance": []
    },
    "kernelspec": {
      "name": "python3",
      "display_name": "Python 3"
    },
    "language_info": {
      "name": "python"
    }
  },
  "cells": [
    {
      "cell_type": "markdown",
      "source": [
        "**Arrest Prediction Using Machine Learning: Analyzing Chicago Crime**"
      ],
      "metadata": {
        "id": "JJ881-1eT4dK"
      }
    },
    {
      "cell_type": "markdown",
      "source": [
        "Extracted data from the City of Chicago to develop a model for predicting arrests. Experimented with various machine learning algorithms to identify the most effective approach, aiming to improve accuracy and ensure balanced predictions."
      ],
      "metadata": {
        "id": "YP5tmCmAbMad"
      }
    },
    {
      "cell_type": "code",
      "source": [
        "import pandas as pd\n",
        "import matplotlib.pyplot as plt\n",
        "from matplotlib.ticker import MaxNLocator\n"
      ],
      "metadata": {
        "id": "F6rmjtXUKS4d"
      },
      "execution_count": null,
      "outputs": []
    },
    {
      "cell_type": "code",
      "source": [
        "url = \"https://data.cityofchicago.org/resource/ijzp-q8t2.csv?$limit=5000000\"\n",
        "df = pd.read_csv(url)\n",
        "df"
      ],
      "metadata": {
        "colab": {
          "base_uri": "https://localhost:8080/",
          "height": 808
        },
        "id": "Cr_ANZcv950L",
        "outputId": "a00c2930-c268-4217-98e3-405648e8763a"
      },
      "execution_count": null,
      "outputs": [
        {
          "output_type": "execute_result",
          "data": {
            "text/plain": [
              "               id case_number                     date  \\\n",
              "0        13739834    JJ138260  2025-02-04T00:00:00.000   \n",
              "1        13739233    JJ137508  2025-02-04T00:00:00.000   \n",
              "2        13739560    JJ137742  2025-02-04T00:00:00.000   \n",
              "3        13742316    JJ141551  2025-02-04T00:00:00.000   \n",
              "4        13739892    JJ138400  2025-02-04T00:00:00.000   \n",
              "...           ...         ...                      ...   \n",
              "4999995   6015060    HN784512  2007-12-30T07:50:00.000   \n",
              "4999996   5990097    HN784529  2007-12-30T07:45:10.000   \n",
              "4999997   5989553    HN784607  2007-12-30T07:44:24.000   \n",
              "4999998   5993148    HN784522  2007-12-30T07:34:20.000   \n",
              "4999999   5997992    HN785996  2007-12-30T07:30:00.000   \n",
              "\n",
              "                          block  iucr         primary_type  \\\n",
              "0          047XX W MARQUETTE RD  0560              ASSAULT   \n",
              "1        015XX S CHRISTIANA AVE  1365    CRIMINAL TRESPASS   \n",
              "2               004XX E 63RD ST  0810                THEFT   \n",
              "3             016XX W TOUHY AVE  1320      CRIMINAL DAMAGE   \n",
              "4           027XX S WESTERN AVE  0460              BATTERY   \n",
              "...                         ...   ...                  ...   \n",
              "4999995      080XX S DREXEL AVE  1811            NARCOTICS   \n",
              "4999996      024XX S SAWYER AVE  0910  MOTOR VEHICLE THEFT   \n",
              "4999997       049XX W WALTON ST  0560              ASSAULT   \n",
              "4999998    002XX N KILBOURN AVE  1365    CRIMINAL TRESPASS   \n",
              "4999999     040XX W HARRISON ST  0910  MOTOR VEHICLE THEFT   \n",
              "\n",
              "                          description             location_description  \\\n",
              "0                              SIMPLE                           STREET   \n",
              "1                        TO RESIDENCE  RESIDENCE - YARD (FRONT / BACK)   \n",
              "2                           OVER $500                       RESTAURANT   \n",
              "3                          TO VEHICLE                           STREET   \n",
              "4                              SIMPLE                           STREET   \n",
              "...                               ...                              ...   \n",
              "4999995  POSS: CANNABIS 30GMS OR LESS          RESIDENCE PORCH/HALLWAY   \n",
              "4999996                    AUTOMOBILE                           STREET   \n",
              "4999997                        SIMPLE                        RESIDENCE   \n",
              "4999998                  TO RESIDENCE                        APARTMENT   \n",
              "4999999                    AUTOMOBILE                           STREET   \n",
              "\n",
              "         arrest  domestic  ...  ward  community_area  fbi_code  x_coordinate  \\\n",
              "0         False      True  ...  23.0            65.0       08A     1146112.0   \n",
              "1          True      True  ...  24.0            29.0        26     1154284.0   \n",
              "2         False     False  ...  20.0            42.0        06     1180086.0   \n",
              "3         False     False  ...  49.0             1.0        14     1164316.0   \n",
              "4         False     False  ...  12.0            31.0       08B     1160828.0   \n",
              "...         ...       ...  ...   ...             ...       ...           ...   \n",
              "4999995    True     False  ...   8.0            44.0        18     1183627.0   \n",
              "4999996   False     False  ...  22.0            30.0        07     1155082.0   \n",
              "4999997   False      True  ...  37.0            25.0       08A     1143257.0   \n",
              "4999998   False      True  ...  28.0            26.0        26     1146343.0   \n",
              "4999999   False     False  ...  24.0            26.0        07     1149616.0   \n",
              "\n",
              "        y_coordinate  year               updated_on   latitude  longitude  \\\n",
              "0          1859760.0  2025  2025-02-11T15:42:38.000  41.771161 -87.739965   \n",
              "1          1892243.0  2025  2025-02-11T15:42:38.000  41.860140 -87.709144   \n",
              "2          1863329.0  2025  2025-02-11T15:42:38.000  41.780243 -87.615319   \n",
              "3          1947916.0  2025  2025-02-11T15:42:38.000  42.012703 -87.670740   \n",
              "4          1885676.0  2025  2025-02-11T15:42:38.000  41.841986 -87.685305   \n",
              "...              ...   ...                      ...        ...        ...   \n",
              "4999995    1851969.0  2007  2018-02-28T15:56:25.000  41.748989 -87.602691   \n",
              "4999996    1887583.0  2007  2018-02-28T15:56:25.000  41.847336 -87.706340   \n",
              "4999997    1905859.0  2007  2021-09-07T15:41:02.000  41.897716 -87.749282   \n",
              "4999998    1901172.0  2007  2021-09-07T15:41:02.000  41.884797 -87.738066   \n",
              "4999999    1897056.0  2007  2018-02-28T15:56:25.000  41.873439 -87.726154   \n",
              "\n",
              "                                     location  \n",
              "0          \\n,  \\n(41.7711605, -87.739964917)  \n",
              "1        \\n,  \\n(41.860139578, -87.709144009)  \n",
              "2        \\n,  \\n(41.780243493, -87.615319321)  \n",
              "3        \\n,  \\n(42.012703334, -87.670739681)  \n",
              "4        \\n,  \\n(41.841985983, -87.685304565)  \n",
              "...                                       ...  \n",
              "4999995  \\n,  \\n(41.748988677, -87.602691353)  \n",
              "4999996   \\n,  \\n(41.84733605, -87.706339649)  \n",
              "4999997  \\n,  \\n(41.897716421, -87.749281543)  \n",
              "4999998   \\n,  \\n(41.88479656, -87.738066308)  \n",
              "4999999  \\n,  \\n(41.873438866, -87.726154185)  \n",
              "\n",
              "[5000000 rows x 22 columns]"
            ],
            "text/html": [
              "\n",
              "  <div id=\"df-c02150be-4049-4bbd-94cc-2c3370ec2ce8\" class=\"colab-df-container\">\n",
              "    <div>\n",
              "<style scoped>\n",
              "    .dataframe tbody tr th:only-of-type {\n",
              "        vertical-align: middle;\n",
              "    }\n",
              "\n",
              "    .dataframe tbody tr th {\n",
              "        vertical-align: top;\n",
              "    }\n",
              "\n",
              "    .dataframe thead th {\n",
              "        text-align: right;\n",
              "    }\n",
              "</style>\n",
              "<table border=\"1\" class=\"dataframe\">\n",
              "  <thead>\n",
              "    <tr style=\"text-align: right;\">\n",
              "      <th></th>\n",
              "      <th>id</th>\n",
              "      <th>case_number</th>\n",
              "      <th>date</th>\n",
              "      <th>block</th>\n",
              "      <th>iucr</th>\n",
              "      <th>primary_type</th>\n",
              "      <th>description</th>\n",
              "      <th>location_description</th>\n",
              "      <th>arrest</th>\n",
              "      <th>domestic</th>\n",
              "      <th>...</th>\n",
              "      <th>ward</th>\n",
              "      <th>community_area</th>\n",
              "      <th>fbi_code</th>\n",
              "      <th>x_coordinate</th>\n",
              "      <th>y_coordinate</th>\n",
              "      <th>year</th>\n",
              "      <th>updated_on</th>\n",
              "      <th>latitude</th>\n",
              "      <th>longitude</th>\n",
              "      <th>location</th>\n",
              "    </tr>\n",
              "  </thead>\n",
              "  <tbody>\n",
              "    <tr>\n",
              "      <th>0</th>\n",
              "      <td>13739834</td>\n",
              "      <td>JJ138260</td>\n",
              "      <td>2025-02-04T00:00:00.000</td>\n",
              "      <td>047XX W MARQUETTE RD</td>\n",
              "      <td>0560</td>\n",
              "      <td>ASSAULT</td>\n",
              "      <td>SIMPLE</td>\n",
              "      <td>STREET</td>\n",
              "      <td>False</td>\n",
              "      <td>True</td>\n",
              "      <td>...</td>\n",
              "      <td>23.0</td>\n",
              "      <td>65.0</td>\n",
              "      <td>08A</td>\n",
              "      <td>1146112.0</td>\n",
              "      <td>1859760.0</td>\n",
              "      <td>2025</td>\n",
              "      <td>2025-02-11T15:42:38.000</td>\n",
              "      <td>41.771161</td>\n",
              "      <td>-87.739965</td>\n",
              "      <td>\\n,  \\n(41.7711605, -87.739964917)</td>\n",
              "    </tr>\n",
              "    <tr>\n",
              "      <th>1</th>\n",
              "      <td>13739233</td>\n",
              "      <td>JJ137508</td>\n",
              "      <td>2025-02-04T00:00:00.000</td>\n",
              "      <td>015XX S CHRISTIANA AVE</td>\n",
              "      <td>1365</td>\n",
              "      <td>CRIMINAL TRESPASS</td>\n",
              "      <td>TO RESIDENCE</td>\n",
              "      <td>RESIDENCE - YARD (FRONT / BACK)</td>\n",
              "      <td>True</td>\n",
              "      <td>True</td>\n",
              "      <td>...</td>\n",
              "      <td>24.0</td>\n",
              "      <td>29.0</td>\n",
              "      <td>26</td>\n",
              "      <td>1154284.0</td>\n",
              "      <td>1892243.0</td>\n",
              "      <td>2025</td>\n",
              "      <td>2025-02-11T15:42:38.000</td>\n",
              "      <td>41.860140</td>\n",
              "      <td>-87.709144</td>\n",
              "      <td>\\n,  \\n(41.860139578, -87.709144009)</td>\n",
              "    </tr>\n",
              "    <tr>\n",
              "      <th>2</th>\n",
              "      <td>13739560</td>\n",
              "      <td>JJ137742</td>\n",
              "      <td>2025-02-04T00:00:00.000</td>\n",
              "      <td>004XX E 63RD ST</td>\n",
              "      <td>0810</td>\n",
              "      <td>THEFT</td>\n",
              "      <td>OVER $500</td>\n",
              "      <td>RESTAURANT</td>\n",
              "      <td>False</td>\n",
              "      <td>False</td>\n",
              "      <td>...</td>\n",
              "      <td>20.0</td>\n",
              "      <td>42.0</td>\n",
              "      <td>06</td>\n",
              "      <td>1180086.0</td>\n",
              "      <td>1863329.0</td>\n",
              "      <td>2025</td>\n",
              "      <td>2025-02-11T15:42:38.000</td>\n",
              "      <td>41.780243</td>\n",
              "      <td>-87.615319</td>\n",
              "      <td>\\n,  \\n(41.780243493, -87.615319321)</td>\n",
              "    </tr>\n",
              "    <tr>\n",
              "      <th>3</th>\n",
              "      <td>13742316</td>\n",
              "      <td>JJ141551</td>\n",
              "      <td>2025-02-04T00:00:00.000</td>\n",
              "      <td>016XX W TOUHY AVE</td>\n",
              "      <td>1320</td>\n",
              "      <td>CRIMINAL DAMAGE</td>\n",
              "      <td>TO VEHICLE</td>\n",
              "      <td>STREET</td>\n",
              "      <td>False</td>\n",
              "      <td>False</td>\n",
              "      <td>...</td>\n",
              "      <td>49.0</td>\n",
              "      <td>1.0</td>\n",
              "      <td>14</td>\n",
              "      <td>1164316.0</td>\n",
              "      <td>1947916.0</td>\n",
              "      <td>2025</td>\n",
              "      <td>2025-02-11T15:42:38.000</td>\n",
              "      <td>42.012703</td>\n",
              "      <td>-87.670740</td>\n",
              "      <td>\\n,  \\n(42.012703334, -87.670739681)</td>\n",
              "    </tr>\n",
              "    <tr>\n",
              "      <th>4</th>\n",
              "      <td>13739892</td>\n",
              "      <td>JJ138400</td>\n",
              "      <td>2025-02-04T00:00:00.000</td>\n",
              "      <td>027XX S WESTERN AVE</td>\n",
              "      <td>0460</td>\n",
              "      <td>BATTERY</td>\n",
              "      <td>SIMPLE</td>\n",
              "      <td>STREET</td>\n",
              "      <td>False</td>\n",
              "      <td>False</td>\n",
              "      <td>...</td>\n",
              "      <td>12.0</td>\n",
              "      <td>31.0</td>\n",
              "      <td>08B</td>\n",
              "      <td>1160828.0</td>\n",
              "      <td>1885676.0</td>\n",
              "      <td>2025</td>\n",
              "      <td>2025-02-11T15:42:38.000</td>\n",
              "      <td>41.841986</td>\n",
              "      <td>-87.685305</td>\n",
              "      <td>\\n,  \\n(41.841985983, -87.685304565)</td>\n",
              "    </tr>\n",
              "    <tr>\n",
              "      <th>...</th>\n",
              "      <td>...</td>\n",
              "      <td>...</td>\n",
              "      <td>...</td>\n",
              "      <td>...</td>\n",
              "      <td>...</td>\n",
              "      <td>...</td>\n",
              "      <td>...</td>\n",
              "      <td>...</td>\n",
              "      <td>...</td>\n",
              "      <td>...</td>\n",
              "      <td>...</td>\n",
              "      <td>...</td>\n",
              "      <td>...</td>\n",
              "      <td>...</td>\n",
              "      <td>...</td>\n",
              "      <td>...</td>\n",
              "      <td>...</td>\n",
              "      <td>...</td>\n",
              "      <td>...</td>\n",
              "      <td>...</td>\n",
              "      <td>...</td>\n",
              "    </tr>\n",
              "    <tr>\n",
              "      <th>4999995</th>\n",
              "      <td>6015060</td>\n",
              "      <td>HN784512</td>\n",
              "      <td>2007-12-30T07:50:00.000</td>\n",
              "      <td>080XX S DREXEL AVE</td>\n",
              "      <td>1811</td>\n",
              "      <td>NARCOTICS</td>\n",
              "      <td>POSS: CANNABIS 30GMS OR LESS</td>\n",
              "      <td>RESIDENCE PORCH/HALLWAY</td>\n",
              "      <td>True</td>\n",
              "      <td>False</td>\n",
              "      <td>...</td>\n",
              "      <td>8.0</td>\n",
              "      <td>44.0</td>\n",
              "      <td>18</td>\n",
              "      <td>1183627.0</td>\n",
              "      <td>1851969.0</td>\n",
              "      <td>2007</td>\n",
              "      <td>2018-02-28T15:56:25.000</td>\n",
              "      <td>41.748989</td>\n",
              "      <td>-87.602691</td>\n",
              "      <td>\\n,  \\n(41.748988677, -87.602691353)</td>\n",
              "    </tr>\n",
              "    <tr>\n",
              "      <th>4999996</th>\n",
              "      <td>5990097</td>\n",
              "      <td>HN784529</td>\n",
              "      <td>2007-12-30T07:45:10.000</td>\n",
              "      <td>024XX S SAWYER AVE</td>\n",
              "      <td>0910</td>\n",
              "      <td>MOTOR VEHICLE THEFT</td>\n",
              "      <td>AUTOMOBILE</td>\n",
              "      <td>STREET</td>\n",
              "      <td>False</td>\n",
              "      <td>False</td>\n",
              "      <td>...</td>\n",
              "      <td>22.0</td>\n",
              "      <td>30.0</td>\n",
              "      <td>07</td>\n",
              "      <td>1155082.0</td>\n",
              "      <td>1887583.0</td>\n",
              "      <td>2007</td>\n",
              "      <td>2018-02-28T15:56:25.000</td>\n",
              "      <td>41.847336</td>\n",
              "      <td>-87.706340</td>\n",
              "      <td>\\n,  \\n(41.84733605, -87.706339649)</td>\n",
              "    </tr>\n",
              "    <tr>\n",
              "      <th>4999997</th>\n",
              "      <td>5989553</td>\n",
              "      <td>HN784607</td>\n",
              "      <td>2007-12-30T07:44:24.000</td>\n",
              "      <td>049XX W WALTON ST</td>\n",
              "      <td>0560</td>\n",
              "      <td>ASSAULT</td>\n",
              "      <td>SIMPLE</td>\n",
              "      <td>RESIDENCE</td>\n",
              "      <td>False</td>\n",
              "      <td>True</td>\n",
              "      <td>...</td>\n",
              "      <td>37.0</td>\n",
              "      <td>25.0</td>\n",
              "      <td>08A</td>\n",
              "      <td>1143257.0</td>\n",
              "      <td>1905859.0</td>\n",
              "      <td>2007</td>\n",
              "      <td>2021-09-07T15:41:02.000</td>\n",
              "      <td>41.897716</td>\n",
              "      <td>-87.749282</td>\n",
              "      <td>\\n,  \\n(41.897716421, -87.749281543)</td>\n",
              "    </tr>\n",
              "    <tr>\n",
              "      <th>4999998</th>\n",
              "      <td>5993148</td>\n",
              "      <td>HN784522</td>\n",
              "      <td>2007-12-30T07:34:20.000</td>\n",
              "      <td>002XX N KILBOURN AVE</td>\n",
              "      <td>1365</td>\n",
              "      <td>CRIMINAL TRESPASS</td>\n",
              "      <td>TO RESIDENCE</td>\n",
              "      <td>APARTMENT</td>\n",
              "      <td>False</td>\n",
              "      <td>True</td>\n",
              "      <td>...</td>\n",
              "      <td>28.0</td>\n",
              "      <td>26.0</td>\n",
              "      <td>26</td>\n",
              "      <td>1146343.0</td>\n",
              "      <td>1901172.0</td>\n",
              "      <td>2007</td>\n",
              "      <td>2021-09-07T15:41:02.000</td>\n",
              "      <td>41.884797</td>\n",
              "      <td>-87.738066</td>\n",
              "      <td>\\n,  \\n(41.88479656, -87.738066308)</td>\n",
              "    </tr>\n",
              "    <tr>\n",
              "      <th>4999999</th>\n",
              "      <td>5997992</td>\n",
              "      <td>HN785996</td>\n",
              "      <td>2007-12-30T07:30:00.000</td>\n",
              "      <td>040XX W HARRISON ST</td>\n",
              "      <td>0910</td>\n",
              "      <td>MOTOR VEHICLE THEFT</td>\n",
              "      <td>AUTOMOBILE</td>\n",
              "      <td>STREET</td>\n",
              "      <td>False</td>\n",
              "      <td>False</td>\n",
              "      <td>...</td>\n",
              "      <td>24.0</td>\n",
              "      <td>26.0</td>\n",
              "      <td>07</td>\n",
              "      <td>1149616.0</td>\n",
              "      <td>1897056.0</td>\n",
              "      <td>2007</td>\n",
              "      <td>2018-02-28T15:56:25.000</td>\n",
              "      <td>41.873439</td>\n",
              "      <td>-87.726154</td>\n",
              "      <td>\\n,  \\n(41.873438866, -87.726154185)</td>\n",
              "    </tr>\n",
              "  </tbody>\n",
              "</table>\n",
              "<p>5000000 rows × 22 columns</p>\n",
              "</div>\n",
              "    <div class=\"colab-df-buttons\">\n",
              "\n",
              "  <div class=\"colab-df-container\">\n",
              "    <button class=\"colab-df-convert\" onclick=\"convertToInteractive('df-c02150be-4049-4bbd-94cc-2c3370ec2ce8')\"\n",
              "            title=\"Convert this dataframe to an interactive table.\"\n",
              "            style=\"display:none;\">\n",
              "\n",
              "  <svg xmlns=\"http://www.w3.org/2000/svg\" height=\"24px\" viewBox=\"0 -960 960 960\">\n",
              "    <path d=\"M120-120v-720h720v720H120Zm60-500h600v-160H180v160Zm220 220h160v-160H400v160Zm0 220h160v-160H400v160ZM180-400h160v-160H180v160Zm440 0h160v-160H620v160ZM180-180h160v-160H180v160Zm440 0h160v-160H620v160Z\"/>\n",
              "  </svg>\n",
              "    </button>\n",
              "\n",
              "  <style>\n",
              "    .colab-df-container {\n",
              "      display:flex;\n",
              "      gap: 12px;\n",
              "    }\n",
              "\n",
              "    .colab-df-convert {\n",
              "      background-color: #E8F0FE;\n",
              "      border: none;\n",
              "      border-radius: 50%;\n",
              "      cursor: pointer;\n",
              "      display: none;\n",
              "      fill: #1967D2;\n",
              "      height: 32px;\n",
              "      padding: 0 0 0 0;\n",
              "      width: 32px;\n",
              "    }\n",
              "\n",
              "    .colab-df-convert:hover {\n",
              "      background-color: #E2EBFA;\n",
              "      box-shadow: 0px 1px 2px rgba(60, 64, 67, 0.3), 0px 1px 3px 1px rgba(60, 64, 67, 0.15);\n",
              "      fill: #174EA6;\n",
              "    }\n",
              "\n",
              "    .colab-df-buttons div {\n",
              "      margin-bottom: 4px;\n",
              "    }\n",
              "\n",
              "    [theme=dark] .colab-df-convert {\n",
              "      background-color: #3B4455;\n",
              "      fill: #D2E3FC;\n",
              "    }\n",
              "\n",
              "    [theme=dark] .colab-df-convert:hover {\n",
              "      background-color: #434B5C;\n",
              "      box-shadow: 0px 1px 3px 1px rgba(0, 0, 0, 0.15);\n",
              "      filter: drop-shadow(0px 1px 2px rgba(0, 0, 0, 0.3));\n",
              "      fill: #FFFFFF;\n",
              "    }\n",
              "  </style>\n",
              "\n",
              "    <script>\n",
              "      const buttonEl =\n",
              "        document.querySelector('#df-c02150be-4049-4bbd-94cc-2c3370ec2ce8 button.colab-df-convert');\n",
              "      buttonEl.style.display =\n",
              "        google.colab.kernel.accessAllowed ? 'block' : 'none';\n",
              "\n",
              "      async function convertToInteractive(key) {\n",
              "        const element = document.querySelector('#df-c02150be-4049-4bbd-94cc-2c3370ec2ce8');\n",
              "        const dataTable =\n",
              "          await google.colab.kernel.invokeFunction('convertToInteractive',\n",
              "                                                    [key], {});\n",
              "        if (!dataTable) return;\n",
              "\n",
              "        const docLinkHtml = 'Like what you see? Visit the ' +\n",
              "          '<a target=\"_blank\" href=https://colab.research.google.com/notebooks/data_table.ipynb>data table notebook</a>'\n",
              "          + ' to learn more about interactive tables.';\n",
              "        element.innerHTML = '';\n",
              "        dataTable['output_type'] = 'display_data';\n",
              "        await google.colab.output.renderOutput(dataTable, element);\n",
              "        const docLink = document.createElement('div');\n",
              "        docLink.innerHTML = docLinkHtml;\n",
              "        element.appendChild(docLink);\n",
              "      }\n",
              "    </script>\n",
              "  </div>\n",
              "\n",
              "\n",
              "<div id=\"df-2ef2bf9c-5be7-4f9c-a7d6-6041fad717b2\">\n",
              "  <button class=\"colab-df-quickchart\" onclick=\"quickchart('df-2ef2bf9c-5be7-4f9c-a7d6-6041fad717b2')\"\n",
              "            title=\"Suggest charts\"\n",
              "            style=\"display:none;\">\n",
              "\n",
              "<svg xmlns=\"http://www.w3.org/2000/svg\" height=\"24px\"viewBox=\"0 0 24 24\"\n",
              "     width=\"24px\">\n",
              "    <g>\n",
              "        <path d=\"M19 3H5c-1.1 0-2 .9-2 2v14c0 1.1.9 2 2 2h14c1.1 0 2-.9 2-2V5c0-1.1-.9-2-2-2zM9 17H7v-7h2v7zm4 0h-2V7h2v10zm4 0h-2v-4h2v4z\"/>\n",
              "    </g>\n",
              "</svg>\n",
              "  </button>\n",
              "\n",
              "<style>\n",
              "  .colab-df-quickchart {\n",
              "      --bg-color: #E8F0FE;\n",
              "      --fill-color: #1967D2;\n",
              "      --hover-bg-color: #E2EBFA;\n",
              "      --hover-fill-color: #174EA6;\n",
              "      --disabled-fill-color: #AAA;\n",
              "      --disabled-bg-color: #DDD;\n",
              "  }\n",
              "\n",
              "  [theme=dark] .colab-df-quickchart {\n",
              "      --bg-color: #3B4455;\n",
              "      --fill-color: #D2E3FC;\n",
              "      --hover-bg-color: #434B5C;\n",
              "      --hover-fill-color: #FFFFFF;\n",
              "      --disabled-bg-color: #3B4455;\n",
              "      --disabled-fill-color: #666;\n",
              "  }\n",
              "\n",
              "  .colab-df-quickchart {\n",
              "    background-color: var(--bg-color);\n",
              "    border: none;\n",
              "    border-radius: 50%;\n",
              "    cursor: pointer;\n",
              "    display: none;\n",
              "    fill: var(--fill-color);\n",
              "    height: 32px;\n",
              "    padding: 0;\n",
              "    width: 32px;\n",
              "  }\n",
              "\n",
              "  .colab-df-quickchart:hover {\n",
              "    background-color: var(--hover-bg-color);\n",
              "    box-shadow: 0 1px 2px rgba(60, 64, 67, 0.3), 0 1px 3px 1px rgba(60, 64, 67, 0.15);\n",
              "    fill: var(--button-hover-fill-color);\n",
              "  }\n",
              "\n",
              "  .colab-df-quickchart-complete:disabled,\n",
              "  .colab-df-quickchart-complete:disabled:hover {\n",
              "    background-color: var(--disabled-bg-color);\n",
              "    fill: var(--disabled-fill-color);\n",
              "    box-shadow: none;\n",
              "  }\n",
              "\n",
              "  .colab-df-spinner {\n",
              "    border: 2px solid var(--fill-color);\n",
              "    border-color: transparent;\n",
              "    border-bottom-color: var(--fill-color);\n",
              "    animation:\n",
              "      spin 1s steps(1) infinite;\n",
              "  }\n",
              "\n",
              "  @keyframes spin {\n",
              "    0% {\n",
              "      border-color: transparent;\n",
              "      border-bottom-color: var(--fill-color);\n",
              "      border-left-color: var(--fill-color);\n",
              "    }\n",
              "    20% {\n",
              "      border-color: transparent;\n",
              "      border-left-color: var(--fill-color);\n",
              "      border-top-color: var(--fill-color);\n",
              "    }\n",
              "    30% {\n",
              "      border-color: transparent;\n",
              "      border-left-color: var(--fill-color);\n",
              "      border-top-color: var(--fill-color);\n",
              "      border-right-color: var(--fill-color);\n",
              "    }\n",
              "    40% {\n",
              "      border-color: transparent;\n",
              "      border-right-color: var(--fill-color);\n",
              "      border-top-color: var(--fill-color);\n",
              "    }\n",
              "    60% {\n",
              "      border-color: transparent;\n",
              "      border-right-color: var(--fill-color);\n",
              "    }\n",
              "    80% {\n",
              "      border-color: transparent;\n",
              "      border-right-color: var(--fill-color);\n",
              "      border-bottom-color: var(--fill-color);\n",
              "    }\n",
              "    90% {\n",
              "      border-color: transparent;\n",
              "      border-bottom-color: var(--fill-color);\n",
              "    }\n",
              "  }\n",
              "</style>\n",
              "\n",
              "  <script>\n",
              "    async function quickchart(key) {\n",
              "      const quickchartButtonEl =\n",
              "        document.querySelector('#' + key + ' button');\n",
              "      quickchartButtonEl.disabled = true;  // To prevent multiple clicks.\n",
              "      quickchartButtonEl.classList.add('colab-df-spinner');\n",
              "      try {\n",
              "        const charts = await google.colab.kernel.invokeFunction(\n",
              "            'suggestCharts', [key], {});\n",
              "      } catch (error) {\n",
              "        console.error('Error during call to suggestCharts:', error);\n",
              "      }\n",
              "      quickchartButtonEl.classList.remove('colab-df-spinner');\n",
              "      quickchartButtonEl.classList.add('colab-df-quickchart-complete');\n",
              "    }\n",
              "    (() => {\n",
              "      let quickchartButtonEl =\n",
              "        document.querySelector('#df-2ef2bf9c-5be7-4f9c-a7d6-6041fad717b2 button');\n",
              "      quickchartButtonEl.style.display =\n",
              "        google.colab.kernel.accessAllowed ? 'block' : 'none';\n",
              "    })();\n",
              "  </script>\n",
              "</div>\n",
              "\n",
              "  <div id=\"id_f2813777-876d-4b57-ae5c-4c6a553ad4e5\">\n",
              "    <style>\n",
              "      .colab-df-generate {\n",
              "        background-color: #E8F0FE;\n",
              "        border: none;\n",
              "        border-radius: 50%;\n",
              "        cursor: pointer;\n",
              "        display: none;\n",
              "        fill: #1967D2;\n",
              "        height: 32px;\n",
              "        padding: 0 0 0 0;\n",
              "        width: 32px;\n",
              "      }\n",
              "\n",
              "      .colab-df-generate:hover {\n",
              "        background-color: #E2EBFA;\n",
              "        box-shadow: 0px 1px 2px rgba(60, 64, 67, 0.3), 0px 1px 3px 1px rgba(60, 64, 67, 0.15);\n",
              "        fill: #174EA6;\n",
              "      }\n",
              "\n",
              "      [theme=dark] .colab-df-generate {\n",
              "        background-color: #3B4455;\n",
              "        fill: #D2E3FC;\n",
              "      }\n",
              "\n",
              "      [theme=dark] .colab-df-generate:hover {\n",
              "        background-color: #434B5C;\n",
              "        box-shadow: 0px 1px 3px 1px rgba(0, 0, 0, 0.15);\n",
              "        filter: drop-shadow(0px 1px 2px rgba(0, 0, 0, 0.3));\n",
              "        fill: #FFFFFF;\n",
              "      }\n",
              "    </style>\n",
              "    <button class=\"colab-df-generate\" onclick=\"generateWithVariable('df')\"\n",
              "            title=\"Generate code using this dataframe.\"\n",
              "            style=\"display:none;\">\n",
              "\n",
              "  <svg xmlns=\"http://www.w3.org/2000/svg\" height=\"24px\"viewBox=\"0 0 24 24\"\n",
              "       width=\"24px\">\n",
              "    <path d=\"M7,19H8.4L18.45,9,17,7.55,7,17.6ZM5,21V16.75L18.45,3.32a2,2,0,0,1,2.83,0l1.4,1.43a1.91,1.91,0,0,1,.58,1.4,1.91,1.91,0,0,1-.58,1.4L9.25,21ZM18.45,9,17,7.55Zm-12,3A5.31,5.31,0,0,0,4.9,8.1,5.31,5.31,0,0,0,1,6.5,5.31,5.31,0,0,0,4.9,4.9,5.31,5.31,0,0,0,6.5,1,5.31,5.31,0,0,0,8.1,4.9,5.31,5.31,0,0,0,12,6.5,5.46,5.46,0,0,0,6.5,12Z\"/>\n",
              "  </svg>\n",
              "    </button>\n",
              "    <script>\n",
              "      (() => {\n",
              "      const buttonEl =\n",
              "        document.querySelector('#id_f2813777-876d-4b57-ae5c-4c6a553ad4e5 button.colab-df-generate');\n",
              "      buttonEl.style.display =\n",
              "        google.colab.kernel.accessAllowed ? 'block' : 'none';\n",
              "\n",
              "      buttonEl.onclick = () => {\n",
              "        google.colab.notebook.generateWithVariable('df');\n",
              "      }\n",
              "      })();\n",
              "    </script>\n",
              "  </div>\n",
              "\n",
              "    </div>\n",
              "  </div>\n"
            ],
            "application/vnd.google.colaboratory.intrinsic+json": {
              "type": "dataframe",
              "variable_name": "df"
            }
          },
          "metadata": {},
          "execution_count": 2
        }
      ]
    },
    {
      "cell_type": "code",
      "source": [
        "print(df['description'].unique())\n",
        "\n"
      ],
      "metadata": {
        "colab": {
          "base_uri": "https://localhost:8080/"
        },
        "id": "oji8vuTlZV1d",
        "outputId": "76661fb9-ee8e-4331-a996-5fc72789d81a"
      },
      "execution_count": null,
      "outputs": [
        {
          "output_type": "stream",
          "name": "stdout",
          "text": [
            "['SIMPLE' 'TO RESIDENCE' 'OVER $500' 'TO VEHICLE'\n",
            " 'AGGRAVATED - KNIFE / CUTTING INSTRUMENT' 'THEFT / RECOVERY - AUTOMOBILE'\n",
            " 'TELEPHONE THREAT' 'UNLAWFUL ENTRY' 'COUNTERFEIT CHECK'\n",
            " 'FRAUD OR CONFIDENCE GAME' 'TO LAND' '$500 AND UNDER'\n",
            " 'AGG. DOMESTIC BATTERY - HANDS, FISTS, FEET, SERIOUS INJURY'\n",
            " 'TO PROPERTY' 'ARMED - HANDGUN' 'FORCIBLE ENTRY'\n",
            " 'DOMESTIC BATTERY SIMPLE' 'ARMED - KNIFE / CUTTING INSTRUMENT'\n",
            " 'OTHER CRIME AGAINST PERSON' 'NON-AGGRAVATED'\n",
            " 'ATTEMPT ARMED - KNIFE / CUTTING INSTRUMENT' 'CRIMINAL DEFACEMENT'\n",
            " 'AUTOMOBILE' 'POSSESS - HALLUCINOGENS' 'POSSESS - HEROIN (WHITE)'\n",
            " 'THEFT FROM MOTOR VEHICLE' 'BURGLARY FROM MOTOR VEHICLE'\n",
            " 'AGGRAVATED - HANDGUN' 'UNLAWFUL POSSESSION - HANDGUN'\n",
            " 'TIRE DEFLATION DEVICE DEPLOYMENT' 'FROM BUILDING'\n",
            " 'FOUND SUSPECT NARCOTICS' 'POSSESS - HEROIN (TAN / BROWN TAR)'\n",
            " 'RETAIL THEFT' 'ATTEMPT - AUTOMOBILE'\n",
            " 'GUN OFFENDER - ANNUAL REGISTRATION'\n",
            " 'MANUFACTURE / DELIVER - CANNABIS OVER 10 GRAMS' 'RECKLESS CONDUCT'\n",
            " 'STOLEN PROPERTY BUY / RECEIVE / POSSESS' 'POSSESS - METHAMPHETAMINE'\n",
            " 'CREDIT CARD FRAUD' 'FIRST DEGREE MURDER'\n",
            " 'AGGRAVATED DOMESTIC BATTERY - KNIFE / CUTTING INSTRUMENT'\n",
            " 'RECKLESS FIREARM DISCHARGE' 'ILLEGAL USE CASH CARD'\n",
            " 'HARASSMENT BY ELECTRONIC MEANS' 'POSSESS - COCAINE'\n",
            " 'AGGRAVATED - OTHER DANGEROUS WEAPON' 'POSSESS - CRACK'\n",
            " 'ARMED - OTHER DANGEROUS WEAPON'\n",
            " 'NON-CONSENSUAL DISSEMINATION OF PRIVATE SEXUAL IMAGES'\n",
            " 'PROHIBITED PLACES' 'POSSESS - CANNABIS MORE THAN 30 GRAMS'\n",
            " 'AGGRAVATED P.O. - HANDS, FISTS, FEET, NO / MINOR INJURY'\n",
            " 'HARASSMENT BY TELEPHONE' 'OBSTRUCTING IDENTIFICATION'\n",
            " 'MANUFACTURE / DELIVER -  HEROIN (WHITE)'\n",
            " 'AGGRAVATED VEHICULAR HIJACKING' 'ATTEMPT FORCIBLE ENTRY'\n",
            " 'MANUFACTURE / DELIVER - COCAINE' 'CHILD PORNOGRAPHY' 'CHILD ABUSE'\n",
            " 'VIOLATE ORDER OF PROTECTION' 'OTHER CRIME INVOLVING PROPERTY'\n",
            " 'FINANCIAL IDENTITY THEFT OVER $ 300'\n",
            " 'POSSESS - CANNABIS 30 GRAMS OR LESS' 'ATTEMPT THEFT'\n",
            " 'THEFT OF LABOR / SERVICES'\n",
            " 'PROTECTED EMPLOYEE - HANDS, FISTS, FEET, NO / MINOR INJURY'\n",
            " 'DELIVERY CONTAINER THEFT' 'TO AIRPORT' 'STRONG ARM - NO WEAPON'\n",
            " 'THEFT BY LESSEE, NON-MOTOR VEHICLE' 'THEFT OF LOST / MISLAID PROPERTY'\n",
            " 'STATE BENEFITS FRAUD' 'PUBLIC INDECENCY' 'CRIMINAL SEXUAL ABUSE'\n",
            " 'EAVESDROPPING' 'AGGRAVATED CRIMINAL SEXUAL ABUSE'\n",
            " 'FINANCIAL IDENTITY THEFT $300 AND UNDER' 'INSURANCE FRAUD'\n",
            " 'SOLICIT NARCOTICS ON PUBLIC WAY' 'RESIST / OBSTRUCT / DISARM OFFICER'\n",
            " 'FORGERY' 'AGGRAVATED DOMESTIC BATTERY - OTHER DANGEROUS WEAPON'\n",
            " 'PURSE-SNATCHING' 'TO STATE SUP LAND'\n",
            " 'AGGRAVATED - HANDS, FISTS, FEET, NO / MINOR INJURY'\n",
            " 'SEX OFFENDER - FAIL TO REGISTER' 'BY FIRE' 'POCKET-PICKING'\n",
            " 'FALSE / STOLEN / ALTERED TRP' 'UNLAWFUL USE - HANDGUN'\n",
            " 'AGGRAVATED POLICE OFFICER - HANDS, FISTS, FEET, NO INJURY' 'WIC FRAUD'\n",
            " 'HOME INVASION' 'VEHICLE TITLE / REGISTRATION OFFENSE'\n",
            " 'VIOLENT OFFENDER - ANNUAL REGISTRATION' 'COMPUTER FRAUD'\n",
            " 'AGGRAVATED CRIMINAL SEXUAL ABUSE BY FAMILY MEMBER' 'PREDATORY'\n",
            " 'POSSESSION OF DRUG EQUIPMENT' 'OTHER VEHICLE OFFENSE' 'OTHER VIOLATION'\n",
            " 'POSSESS - SYNTHETIC DRUGS' 'GUN OFFENDER - DUTY TO REGISTER'\n",
            " 'ENDANGERING LIFE / HEALTH OF CHILD' 'LICENSE VIOLATION'\n",
            " 'COUNTERFEITING DOCUMENT' 'OTHER OFFENSE'\n",
            " 'ATTEMPT - FINANCIAL IDENTITY THEFT' 'VEHICULAR HIJACKING'\n",
            " 'AGGRAVATED OF A SENIOR CITIZEN' 'AGGRAVATED' 'ATTEMPT ARMED - HANDGUN'\n",
            " 'VIOLATION OF STALKING NO CONTACT ORDER'\n",
            " 'AGGRAVATED POLICE OFFICER - HANDGUN' 'BOARD PLANE WITH WEAPON'\n",
            " 'THEFT BY LESSEE, MOTOR VEHICLE' 'POSSESS - PCP'\n",
            " 'ARMED WHILE UNDER THE INFLUENCE' 'ATTEMPT NON-AGGRAVATED'\n",
            " 'AGGRAVATED POLICE OFFICER - OTHER DANGEROUS WEAPON'\n",
            " 'AGGRAVATED PROTECTED EMPLOYEE - HANDGUN' 'TO CITY OF CHICAGO PROPERTY'\n",
            " 'UNLAWFUL RESTRAINT' 'OTHER' 'LIQUOR LICENSE VIOLATION'\n",
            " 'AGGRAVATED POLICE OFFICER - KNIFE / CUTTING INSTRUMENT' 'KIDNAPPING'\n",
            " 'FALSE POLICE REPORT' 'AGGRAVATED - OTHER FIREARM'\n",
            " 'GUN OFFENDER - DUTY TO REPORT CHANGE OF INFORMATION'\n",
            " 'MANUFACTURE / DELIVER - CRACK' 'CRIMINAL SEXUAL ABUSE BY FAMILY MEMBER'\n",
            " 'OBSTRUCTING JUSTICE' 'ATTEMPT STRONG ARM - NO WEAPON'\n",
            " 'AGGRAVATED - OTHER'\n",
            " 'PLACE VIDEO RECORD/TRANSMIT DEVICE - RESTROOM/TAN SALON/CHNG'\n",
            " 'AGGRAVATED SEXUAL ASSAULT OF CHILD BY FAMILY MEMBER' 'BOGUS CHECK'\n",
            " 'CYCLE, SCOOTER, BIKE WITH VIN' 'SEXUAL EXPLOITATION OF A CHILD'\n",
            " 'INDECENT SOLICITATION OF A CHILD' 'SOLICIT ON PUBLIC WAY'\n",
            " 'ARMED - OTHER FIREARM' 'UNLAWFUL POSSESSION - OTHER FIREARM'\n",
            " 'AGGRAVATED P.O. - HANDS, FISTS, FEET, SERIOUS INJURY'\n",
            " 'AGGRAVATED PROTECTED EMPLOYEE - OTHER DANGEROUS WEAPON' 'OBSCENE MATTER'\n",
            " 'SEX OFFENDER - FAIL TO REGISTER NEW ADDRESS'\n",
            " 'VIOLATION OF CIVIL NO CONTACT ORDER' 'ARSON THREAT'\n",
            " 'FINANCIAL EXPLOITATION OF AN ELDERLY OR DISABLED PERSON'\n",
            " 'MANUFACTURE / DELIVER - METHAMPHETAMINE' 'POSSESS - BARBITURATES'\n",
            " 'UNLAWFUL POSSESSION - AMMUNITION' 'SALE / DELIVER - DRUG PARAPHERNALIA'\n",
            " 'AGGRAVATED - HANDS, FISTS, FEET, SERIOUS INJURY'\n",
            " 'OTHER WEAPONS VIOLATION' 'INTIMIDATION' 'AGGRAVATED OF A CHILD'\n",
            " 'MANUFACTURE / DELIVER - HALLUCINOGEN'\n",
            " 'POSSESS FIREARM / AMMUNITION - NO FOID CARD' 'CHILD ABDUCTION'\n",
            " 'BOMB THREAT' 'ANIMAL ABUSE / NEGLECT' 'DECEPTIVE COLLECTION PRACTICES'\n",
            " 'THEFT / RECOVERY - CYCLE, SCOOTER, BIKE WITH VIN'\n",
            " 'ATTEMPT CRIMINAL SEXUAL ABUSE' 'ATTEMPT AGGRAVATED'\n",
            " 'UNAUTHORIZED VIDEOTAPING' 'VIOLATION OF SMOKING BAN'\n",
            " 'INTERFERENCE JUDICIAL PROCESS'\n",
            " 'SEXUAL ASSAULT OF CHILD BY FAMILY MEMBER'\n",
            " 'VIOLATION OF BAIL BOND - DOMESTIC VIOLENCE'\n",
            " 'UNLAWFUL USE - OTHER DANGEROUS WEAPON'\n",
            " 'CONCEALED CARRY LICENSE REVOCATION' 'EMBEZZLEMENT'\n",
            " 'ALTER / FORGE PRESCRIPTION'\n",
            " 'MINOR DISSEMINATE INDECENT DEPICT ANOTHER MINOR ELEC DEVICE'\n",
            " 'MANUFACTURE / DELIVER - BARBITURATES'\n",
            " 'MANUFACTURE / DELIVER - CANNABIS 10 GRAMS OR LESS'\n",
            " 'UNLAWFUL USE - OTHER FIREARM' 'PEEPING TOM'\n",
            " 'POSSESSION OF BURGLARY TOOLS' 'POSSESS - AMPHETAMINES'\n",
            " 'CHILD ABANDONMENT' 'AGGRAVATED POLICE OFFICER - OTHER FIREARM'\n",
            " 'TO STATE SUPPORTED PROPERTY'\n",
            " 'AGG. PROTECTED EMPLOYEE - HANDS, FISTS, FEET, SERIOUS INJURY'\n",
            " 'UNLAWFUL VISITATION INTERFERENCE' 'OBSTRUCTING SERVICE'\n",
            " 'COMMERCIAL SEX ACTS' 'ESCAPE' 'CRIMINAL DRUG CONSPIRACY'\n",
            " 'INVOLUNTARY SERVITUDE' 'ATTEMPT ARMED - OTHER FIREARM'\n",
            " 'AGGRAVATED PROTECTED EMPLOYEE - KNIFE / CUTTING INSTRUMENT'\n",
            " 'VIOLENT OFFENDER - DUTY TO REGISTER' 'CYCLE, SCOOTER, BIKE NO VIN'\n",
            " 'LICENSED PREMISE' 'TRUCK, BUS, MOTOR HOME' 'OF AN UNBORN CHILD'\n",
            " 'FROM COIN-OPERATED MACHINE OR DEVICE' 'OTHER PROSTITUTION OFFENSE'\n",
            " 'MANUFACTURE / DELIVER - AMPHETAMINES' 'ATTEMPT ARSON'\n",
            " 'VIOLATION GPS MONITORING DEVICE' 'OBSCENITY'\n",
            " 'UNLAWFUL USE OF A COMPUTER' 'POSSESS - HEROIN (BLACK TAR)'\n",
            " 'SOLICITATION OF A SEXUAL ACT' 'ARSONIST - FAIL TO REGISTER NEW ADDRESS'\n",
            " 'MANUFACTURE / DELIVER - SYNTHETIC DRUGS' 'CHILD ABDUCTION / STRANGER'\n",
            " 'AGGRAVATED COMPUTER TAMPERING' 'SEX OFFENDER - PROHIBITED ZONE'\n",
            " 'IMPERSONATION' 'AGGRAVATED FINANCIAL IDENTITY THEFT'\n",
            " 'CONTRIBUTE TO THE DELINQUENCY OF CHILD' 'PAY TV SERVICE OFFENSES'\n",
            " 'CYBERSTALKING' 'DEFACE IDENTIFICATION MARKS OF FIREARM'\n",
            " 'ATTEMPT - TRUCK, BUS, MOTOR HOME'\n",
            " 'UNAUTH VIDEO RECORD/TRANSMIT LIVE VIDEO UNDER/THRU CLOTHES'\n",
            " 'MANUFACTURE / DELIVER - SYNTHETIC MARIJUANA'\n",
            " 'ILLEGAL POSSESSION CASH CARD'\n",
            " 'MANUFACTURE / DELIVER - HEROIN (BLACK TAR)'\n",
            " 'MANUFACTURE / DELIVER - PCP'\n",
            " 'PBLC AID WIRE AND MAIL FRAUD- UNLAW OBT PBLC AID' 'CALL OPERATION'\n",
            " 'AGGRAVATED DOMESTIC BATTERY - HANDGUN'\n",
            " 'ATTEMPT ARMED - OTHER DANGEROUS WEAPON'\n",
            " 'THEFT / RECOVERY - TRUCK, BUS, MOBILE HOME'\n",
            " 'UNLAWFUL USE / SALE OF AIR RIFLE'\n",
            " 'DISTRIBUTION PHOTOGRAPH DEPICTING SEX ORGANS OF CHILD'\n",
            " 'VIOLENT OFFENDER - FAIL TO REGISTER NEW ADDRESS' 'GAME/DICE'\n",
            " 'POST GRAPHIC INFO PORGNOGRAPHIC INTERNET OR POSS GRAPHIC INF'\n",
            " 'ILLEGAL CONSUMPTION BY MINOR' 'PROBATION VIOLATION'\n",
            " 'CRIMINAL SEXUAL ABUSE - SEXUAL PENETRATION' 'OBSCENE TELEPHONE CALLS'\n",
            " 'CRIM SEX ABUSE-PENETRATE - OFF < 5 YRS OLDER - VIC 13-16 YOA'\n",
            " 'POSSESSION - EXPLOSIVE / INCENDIARY DEVICE'\n",
            " 'ATTEMPT - CYCLE, SCOOTER, BIKE NO VIN'\n",
            " 'INDECENT SOLICITATION OF AN ADULT'\n",
            " 'MANUFACTURE / DELIVER - HEROIN (TAN / BROWN TAR)'\n",
            " 'SALE / DISTRIBUTE OBSCENE MATERIAL TO MINOR'\n",
            " 'INTERFERE WITH HIGHER EDUCATION'\n",
            " 'AGG CRIM SEX ABUSE - VIC 13-16 YOA - OFF 5 YR OLDER PENETRAT'\n",
            " 'ATTEMPT - CYCLE, SCOOTER, BIKE WITH VIN' 'FORFEIT PROPERTY'\n",
            " 'PUBLIC AIR WIRE AND MAIL FRAUD - VIA WIRE, RADIO, TELEVISION'\n",
            " 'CRIMINAL TRANSMISSION OF HIV' 'FALSE FIRE ALARM'\n",
            " 'KEEPING PLACE OF PROSTITUTION' 'POSSESS - LOOK-ALIKE DRUGS'\n",
            " 'PUBLIC DEMONSTRATION' 'UNLAWFUL USE OF BODY ARMOR'\n",
            " 'PUBLIC AID WIRE/MAIL FRAUD - VIA MAIL/PACKAGE/DELIVERY SYS'\n",
            " 'SELL / GIVE / DELIVER LIQUOR TO MINOR' 'VIOLATION OF SUMMARY CLOSURE'\n",
            " 'AGGRAVATED OF AN UNBORN CHILD' 'TO FIRE FIGHT.APP.EQUIP'\n",
            " 'INSTITUTIONAL VANDALISM' 'ATTEMPT AGGRAVATED - HANDGUN'\n",
            " 'AGGRAVATED PROTECTED EMPLOYEE - OTHER FIREARM'\n",
            " 'CONTRIBUTE TO THE CRIMINAL DELINQUENCY OF CHILD' 'CANNABIS PLANT'\n",
            " 'ATTEMPT POSSESSION NARCOTICS' 'ATTEMPT AGGRAVATED - OTHER'\n",
            " 'OTHER ARSON / EXPLOSIVE INCIDENT'\n",
            " 'INTIMIDATION OF LAW ENFORCEMENT OFFICIAL' 'LIBRARY VANDALISM'\n",
            " 'HARBOR RUNAWAY' 'ARMED VIOLENCE' 'SOLICITING FOR BUSINESS'\n",
            " 'UNLAWFUL SALE - DELIVERY OF FIREARM AT SCHOOL'\n",
            " 'ILLEGAL POSSESSION BY MINOR' 'GAME / AMUSEMENT DEVICE'\n",
            " 'MANUFACTURE / DELIVER - LOOK-ALIKE DRUG' 'BY EXPLOSIVE'\n",
            " 'ATTEMPT AGGRAVATED - KNIFE / CUTTING INSTRUMENT'\n",
            " 'ATTEMPT POSSESSION CANNABIS' 'ABUSE / NEGLECT - CARE FACILITY'\n",
            " 'THEFT / RECOVERY - CYCLE, SCOOTER, BIKE NO VIN'\n",
            " 'INTERNET OFFENSES - ELECTRONIC FENCING' 'INTOXICATING COMPOUNDS'\n",
            " 'FALSE INFO - CERTIFICATION, LICENSING CRIMINAL BACKGROUND EM'\n",
            " 'UNLAWFUL USE OF RECORDED SOUND' 'POSSESS - HYPODERMIC NEEDLE'\n",
            " 'ATTEMPT AGGRAVATED CRIMINAL SEXUAL ABUSE' 'MOB ACTION'\n",
            " 'PAROLE VIOLATION' 'ATTEMPT AGGRAVATED - OTHER DANGEROUS WEAPON'\n",
            " 'TAMPER WITH MOTOR VEHICLE' 'POSSESSION OF PORNOGRAPHIC PRINT'\n",
            " 'FORNICATION' 'SALE OF TOBACCO PRODUCTS TO MINOR'\n",
            " 'INTERFERE WITH EMERGENCY EQUIPMENT' 'POSSESSION - SYNTHETIC MARIJUANA'\n",
            " 'FORCIBLE DETENTION' 'SELL / ADVERTISE FIREWORKS'\n",
            " 'DELIVER CANNABIS TO PERSON UNDER 18' 'SOLICITING FOR A PROSTITUTE'\n",
            " 'PIMPING' 'ARSONIST - ANNUAL REGISTRATION'\n",
            " 'AGGRAVATED DOMESTIC BATTERY - OTHER FIREARM' 'RECKLESS HOMICIDE'\n",
            " 'BIGAMY' 'MONEY LAUNDERING' 'ATTEMPT AGGRAVATED - OTHER FIREARM'\n",
            " 'HAZARDOUS MATERIALS VIOLATION' 'OFFICIAL MISCONDUCT'\n",
            " 'FAILURE TO MAINTAIN RECORDS - CONTROLLED SUBSTANCES' 'EXTORTION'\n",
            " 'BRIBERY' 'UNLAWFUL SALE - HANDGUN' 'SEXUAL RELATIONS IN FAMILY'\n",
            " 'SOLICIT OFF PUBLIC WAY' 'EMPLOY MINOR' 'UNLAWFUL SALE - OTHER FIREARM'\n",
            " 'POSSESS KEYS OR DEVICE TO COIN MACHINE' 'PANDERING'\n",
            " 'USE OF METAL PIERCING BULLETS' 'MINOR MISREPRESENT AGE'\n",
            " 'CALCULATED CANNABIS CONSPIRACY' 'COMPOUNDING A CRIME'\n",
            " 'EDUCATIONAL INTIMIDAITON'\n",
            " 'DELIVER CONTROLLED SUBSTANCES TO PERSON UNDER 18'\n",
            " 'INVOLUNTARY MANSLAUGHTER' 'ANIMAL FIGHTING' 'SECOND DEGREE MURDER'\n",
            " 'DISCLOSE DOMESTIC VIOLENCE VICTIM LOCATION' 'GAME/CARDS'\n",
            " 'AIDING ARRESTEE ESCAPE' 'REFUSING TO AID AN OFFICER'\n",
            " 'AGG. RITUAL MUTILATION - HANDS, FISTS, FEET, SERIOUS INJURY' 'LOOTING'\n",
            " 'AGGRAVATED PO: OTHER DANGEROUS WEAPON' 'UNLAWFUL USE HANDGUN'\n",
            " 'AGGRAVATED: OTHER DANGEROUS WEAPON' 'THEFT OF LABOR/SERVICES'\n",
            " 'AGGRAVATED: KNIFE / CUTTING INSTRUMENT' 'VEHICLE TITLE/REG OFFENSE'\n",
            " 'FALSE/STOLEN/ALTERED TRP' 'UNLAWFUL POSS OF HANDGUN'\n",
            " 'AGG PO HANDS NO/MIN INJURY' 'AGGRAVATED: HANDGUN'\n",
            " 'POSS FIREARM/AMMO:NO FOID CARD'\n",
            " 'PROTECTED EMPLOYEE: HANDS NO / MIN INJURY' 'UNLAWFUL POSS AMMUNITION'\n",
            " 'RESIST/OBSTRUCT/DISARM OFFICER' 'AGGRAVATED:KNIFE/CUTTING INSTR'\n",
            " 'GUN OFFENDER: ANNUAL REGISTRATION' 'AGGRAVATED: OTHER DANG WEAPON'\n",
            " 'AGGRAVATED: HANDS / FIST / FEET SERIOUS INJURY'\n",
            " 'GUN OFFENDER: DUTY TO REGISTER'\n",
            " 'AGGRAVATED DOMESTIC BATTERY: KNIFE / CUTTING INSTSTRUMENT'\n",
            " 'UNLAWFUL USE OTHER FIREARM' 'PRO EMP HANDS NO/MIN INJURY' 'POSS: CRACK'\n",
            " 'MANU/DEL:CANNABIS OVER 10 GMS' 'MANU/DELIVER: METHAMPHETAMINES'\n",
            " 'THEFT/RECOVERY: AUTOMOBILE' 'SOLICIT NARCOTICS ON PUBLICWAY'\n",
            " 'POSS: SYNTHETIC DRUGS' 'MANU/DELIVER: HEROIN (WHITE)'\n",
            " 'POSS: BARBITUATES' 'POSS: HEROIN(WHITE)' 'POSS: HALLUCINOGENS'\n",
            " 'TO STATE SUP PROP' 'AGGRAVATED DOMESTIC BATTERY: OTHER DANG WEAPON'\n",
            " 'POSS: HEROIN(BRN/TAN)' 'POSS: CANNABIS MORE THAN 30GMS' 'POSS: COCAINE'\n",
            " 'POSS: PCP' 'MANU/DELIVER:COCAINE' 'POSS: CANNABIS 30GMS OR LESS'\n",
            " 'SELL/GIVE/DEL LIQUOR TO MINOR' 'AGG PRO EMP HANDS SERIOUS INJ'\n",
            " 'THEFT OF LOST/MISLAID PROP'\n",
            " 'GUN OFFENDER: DUTY TO REPORT CHANGE OF INFORMATION'\n",
            " 'AGGRAVATED DOMESTIC BATTERY: HANDS/FIST/FEET SERIOUS INJURY'\n",
            " 'ARMED: HANDGUN' 'ATT: AUTOMOBILE' 'MANU/DELIVER: HEROIN(BRN/TAN)'\n",
            " 'AGGRAVATED DOMESTIC BATTERY: KNIFE/CUTTING INST' 'STRONGARM - NO WEAPON'\n",
            " 'MANU/DEL:CANNABIS 10GM OR LESS' 'POSS: AMPHETAMINES'\n",
            " 'AGGRAVATED: OTHER FIREARM' 'AGG PRO.EMP: HANDGUN'\n",
            " 'POSS: METHAMPHETAMINES' 'ANIMAL ABUSE/NEGLECT' 'POSS: HEROIN(BLACK TAR)'\n",
            " 'AGGRAVATED PO: OTHER DANG WEAP' 'UNLAWFUL SALE HANDGUN'\n",
            " 'UNLAWFUL POSS OTHER FIREARM' 'AGG: HANDS/FIST/FEET NO/MINOR INJURY'\n",
            " 'UNLAWFUL USE OTHER DANG WEAPON' 'MANU/DELIVER:CRACK'\n",
            " 'AGG PRO.EMP:KNIFE/CUTTING INST' 'ALTER/FORGE PRESCRIPTION'\n",
            " 'UNLAWFUL INTERFERE/VISITATION' 'SEX OFFENDER: FAIL TO REGISTER'\n",
            " 'MANU/DELIVER:AMPHETAMINES' 'ENDANGERING LIFE/HEALTH CHILD'\n",
            " 'ARMED:KNIFE/CUTTING INSTRUMENT' 'VIOLENT OFFENDER: DUTY TO REGISTER'\n",
            " 'VIOLENT OFFENDER: ANNUAL REGISTRATION' 'SEX OFFENDER: FAIL REG NEW ADD'\n",
            " 'AGGRAVATED DOMESTIC BATTERY: OTHER DANGEROUS WEAPON'\n",
            " 'ARMED: OTHER DANGEROUS WEAPON' 'ATTEMPT: STRONGARM-NO WEAPON'\n",
            " 'UNLAWFUL USE/SALE AIR RIFLE' 'STOLEN PROP: BUY/RECEIVE/POS.'\n",
            " 'VIO BAIL BOND: DOM VIOLENCE' 'AGGRAVATED PO:KNIFE/CUT INSTR'\n",
            " 'ATTEMPT: ARMED-HANDGUN'\n",
            " 'AGGRAVATED: HANDS / FIST / FEET NO / MINOR INJURY'\n",
            " 'ATTEMPT: ARMED-KNIFE/CUT INSTR' 'AGG SEX ASSLT OF CHILD FAM MBR'\n",
            " 'STRONGARM: NO WEAPON' 'THEFT BY LESSEE,MOTOR VEH'\n",
            " 'SALE/DIST OBSCENE MAT TO MINOR' 'CYCLE, SCOOTER, BIKE W-VIN'\n",
            " 'ATTEMPT: AGGRAVATED' 'ATTEMPT ARMED: HANDGUN'\n",
            " 'ATTEMPT STRONG ARM: NO WEAPON' 'FINAN EXPLOIT-ELDERLY/DISABLED'\n",
            " 'AGG PRO.EMP: OTHER DANG WEAPON' 'AGG CRIMINAL SEXUAL ABUSE'\n",
            " 'NON-CONSENSUAL DISSEMINATION PRIVATE SEXUAL IMAGES'\n",
            " 'DEFACE IDENT MARKS OF FIREARM' 'OTHER ARSON/EXPLOSIVE INCIDENT'\n",
            " 'CRIM SEX ABUSE BY FAM MEMBER' 'ATTEMPT: ARMED-OTHER DANG WEAP'\n",
            " 'AGG: HANDS/FIST/FEET SERIOUS INJURY' 'AGGRAVATED PO: KNIFE/CUT INSTR'\n",
            " 'MANU/DELIVER:BARBITUATES' 'ATTEMPT: ARMED-OTHER FIREARM'\n",
            " 'AGG CRIM SEX ABUSE FAM MEMBER' 'CHILD ABDUCTION/STRANGER'\n",
            " 'AGGRAVATED: OTHER' 'SALE TOBACCO PRODUCTS TO MINOR' 'MANU/DELIVER:PCP'\n",
            " 'MANU/DELIVER: HALLUCINOGEN' 'INDECENT SOLICITATION/ADULT'\n",
            " 'AGG PRO.EMP: OTHER FIREARM' 'POS: PORNOGRAPHIC PRINT'\n",
            " 'POS: HYPODERMIC NEEDLE' 'VIOLENT OFFENDER: FAIL TO REGISTER NEW ADDRESS'\n",
            " 'SOLICIT FOR BUSINESS' 'POSSESSION: SYNTHETIC MARIJUANA'\n",
            " 'ABUSE/NEGLECT: CARE FACILITY' 'CONT SUBS:FAIL TO MAINT RECORD'\n",
            " 'THEFT/RECOVERY: TRUCK,BUS,MHOME' 'ARMED: OTHER FIREARM'\n",
            " 'SOLICIT FOR PROSTITUTE' 'AGGRAVATED: KNIFE/CUT INSTR'\n",
            " 'CONTRIBUTE CRIM DELINQUENCY JUVENILE' 'SEX ASSLT OF CHILD BY FAM MBR'\n",
            " 'ATT CRIM SEXUAL ABUSE' 'FROM COIN-OP MACHINE/DEVICE'\n",
            " 'ARSONIST: ANNUAL REGISTRATION' 'ATT: TRUCK, BUS, MOTOR HOME'\n",
            " 'INDECENT SOLICITATION/CHILD' 'IN TAVERN' 'AGGRAVATED PO: HANDGUN'\n",
            " 'AGG PO HANDS ETC SERIOUS INJ' 'ATTEMPT AGG: HANDGUN'\n",
            " 'AGGRAVATED DOMESTIC BATTERY: HANDGUN' 'ATTEMPT AGG: OTHER'\n",
            " 'MANU/POSS. W/INTENT TO DELIVER: SYNTHETIC MARIJUANA'\n",
            " 'MANU/DELIVER:SYNTHETIC DRUGS' 'THEFT BY LESSEE,NON-VEH'\n",
            " 'AGGRAVATED OF A UNBORN CHILD' 'CONTRIBUTE DELINQUENCY OF A CHILD'\n",
            " 'ATTEMPT AGG: KNIFE/CUT INSTR' 'AGGRAVATED PO: OTHER FIREARM'\n",
            " 'ATTEMPT: CYCLE, SCOOTER, BIKE W-VIN' 'COMPELLING CONFESSION'\n",
            " 'THEFT/RECOVERY: CYCLE, SCOOTER, BIKE NO VIN' 'OF UNBORN CHILD'\n",
            " 'SEX OFFENDER: PROHIBITED ZONE' 'DELIVER CANNABIS TO PERSON <18'\n",
            " 'POS: EXPLOSIVE/INCENDIARY DEV' 'UNLAWFUL SALE OTHER FIREARM'\n",
            " 'ATT AGG CRIMINAL SEXUAL ABUSE' 'INTERFERE W/ EMERGENCY EQUIP'\n",
            " 'ATTEMPT: CYCLE, SCOOTER, BIKE NO VIN' 'GAME/AMUSEMENT DEVICE'\n",
            " 'SALE/DEL DRUG PARAPHERNALIA' 'PATRONIZING A PROSTITUTE'\n",
            " 'POSS: LOOK-ALIKE DRUGS' 'FOID - REVOCATION' 'LOST PASSPORT'\n",
            " 'ATTEMPT AGG: OTHER DANG WEAPON' 'INTERFERE W/ HIGHER EDUCATION'\n",
            " 'THEFT/RECOVERY: CYCLE, SCOOTER, BIKE W-VIN'\n",
            " 'PATRONIZE JUVENILE PROSTITUTE'\n",
            " 'UNLAWFUL SALE/DELIVERY OF FIREARM AT SCHOOL'\n",
            " 'NOTIFICATION OF STALKING - NO CONTACT ORDER'\n",
            " 'NOTIFICATION OF CIVIL NO CONTACT ORDER'\n",
            " 'ARSONIST: FAIL TO REGISTER NEW ADDRESS' 'MANU/DELIVER:HEROIN(BLACK TAR)'\n",
            " 'ARSONIST: DUTY TO REGISTER' 'UNIDENTIFIABLE RECORDING SOUND'\n",
            " 'ALTER COINS' 'MANU/DELIVER:LOOK-ALIKE DRUG'\n",
            " 'DEL CONT SUBS TO PERSON <18' 'JUVENILE PIMPING' 'SEX RELATION IN FAMILY'\n",
            " 'SELL/ADVERTISE FIREWORKS' 'GUN OFFENDER NOTIFICATION-NO CONTACT'\n",
            " 'KEEP PLACE OF PROSTITUTION' 'CAB OPERATION' 'FOUND PASSPORT'\n",
            " 'COMPELLING ORG MEMBERSHIP' 'ATTEMPT AGG: OTHER FIREARM'\n",
            " 'CONCEALING/AIDING A FUGITIVE' 'POSS. KEYS OR DEV.TO COIN MACH'\n",
            " 'FAIL REGISTER LIC:CONT SUBS' 'LIBRARY THEFT' 'THEFT RETAIL'\n",
            " 'POS: CHEMICAL/DRY-ICE DEVICE' 'CONTRABAND IN PRISON'\n",
            " 'AGGRAVATED DOMESTIC BATTERY: OTHER FIREARM' 'SALE OF OBSCENE MATERIALS'\n",
            " 'SALE/DEL HYPODERMIC NEEDLE' 'FINANCIAL ID THEFT: OVER $300'\n",
            " 'FINANCIAL ID THEFT:$300 &UNDER' 'ATTEMPT FINANCIAL IDENTITY THEFT'\n",
            " 'AGG: FINANCIAL ID THEFT' 'FIREARM REGISTRATION VIOLATION'\n",
            " 'FINANCIAL IDENTITY THEFT: OVER $300' 'BOOKMAKING/SPORTS'\n",
            " 'WIREROOM/SPORTS' 'DISCLOSE DV VICTIM LOCATION' 'LOTTERY/OTHER'\n",
            " 'BOLITA OR BOLI PUL/RUNNER' 'ILLEGAL ILL LOTTERY'\n",
            " 'AGGRAVATED DOMESTIC BATTERY' 'AGGRAVATED: FINANCIAL IDENTITY THEFT'\n",
            " 'LOTTERY/PARI-MUTUEL' 'BOLITA OR BOLI PUL/OFFICE'\n",
            " 'VIOL CHARITABLE GAME ACT' 'REGISTER FED GAMBLING STAMP'\n",
            " 'BOLITA OR BOLI PUL/WRITER' 'FINANCIAL IDENTITY THEFT: $300 & UNDER'\n",
            " 'BOOKMAKING/HORSES' 'REGISTER OF SALES BY DEALER']\n"
          ]
        }
      ]
    },
    {
      "cell_type": "code",
      "source": [
        "print(df['date'].min(), df['date'].max())"
      ],
      "metadata": {
        "colab": {
          "base_uri": "https://localhost:8080/"
        },
        "id": "Mq-S3zwV7-0D",
        "outputId": "525d4085-dc55-4090-bffe-8303a9a95fbb"
      },
      "execution_count": null,
      "outputs": [
        {
          "output_type": "stream",
          "name": "stdout",
          "text": [
            "2007-12-30T07:30:00.000 2025-02-04T00:00:00.000\n"
          ]
        }
      ]
    },
    {
      "cell_type": "markdown",
      "source": [
        "Filtering out data in between 2019 to 2024"
      ],
      "metadata": {
        "id": "akzms4w-IClU"
      }
    },
    {
      "cell_type": "code",
      "source": [
        "df['date'] = pd.to_datetime(df['date'], errors='coerce')  # Convert to datetime\n",
        "df['date_only'] = df['date'].dt.date   # Extract only the date\n",
        "df['time_only'] = df['date'].dt.time   # Extract only the time\n",
        "# Display the first few rows\n",
        "df[['date', 'date_only', 'time_only']].head()\n"
      ],
      "metadata": {
        "colab": {
          "base_uri": "https://localhost:8080/",
          "height": 206
        },
        "id": "OX5230JM1vLh",
        "outputId": "0fe5d00a-d8a9-4f6d-c2c6-59074402ab7e"
      },
      "execution_count": null,
      "outputs": [
        {
          "output_type": "execute_result",
          "data": {
            "text/plain": [
              "        date   date_only time_only\n",
              "0 2025-02-04  2025-02-04  00:00:00\n",
              "1 2025-02-04  2025-02-04  00:00:00\n",
              "2 2025-02-04  2025-02-04  00:00:00\n",
              "3 2025-02-04  2025-02-04  00:00:00\n",
              "4 2025-02-04  2025-02-04  00:00:00"
            ],
            "text/html": [
              "\n",
              "  <div id=\"df-92049020-04ad-4f6b-b46b-a89d663f0801\" class=\"colab-df-container\">\n",
              "    <div>\n",
              "<style scoped>\n",
              "    .dataframe tbody tr th:only-of-type {\n",
              "        vertical-align: middle;\n",
              "    }\n",
              "\n",
              "    .dataframe tbody tr th {\n",
              "        vertical-align: top;\n",
              "    }\n",
              "\n",
              "    .dataframe thead th {\n",
              "        text-align: right;\n",
              "    }\n",
              "</style>\n",
              "<table border=\"1\" class=\"dataframe\">\n",
              "  <thead>\n",
              "    <tr style=\"text-align: right;\">\n",
              "      <th></th>\n",
              "      <th>date</th>\n",
              "      <th>date_only</th>\n",
              "      <th>time_only</th>\n",
              "    </tr>\n",
              "  </thead>\n",
              "  <tbody>\n",
              "    <tr>\n",
              "      <th>0</th>\n",
              "      <td>2025-02-04</td>\n",
              "      <td>2025-02-04</td>\n",
              "      <td>00:00:00</td>\n",
              "    </tr>\n",
              "    <tr>\n",
              "      <th>1</th>\n",
              "      <td>2025-02-04</td>\n",
              "      <td>2025-02-04</td>\n",
              "      <td>00:00:00</td>\n",
              "    </tr>\n",
              "    <tr>\n",
              "      <th>2</th>\n",
              "      <td>2025-02-04</td>\n",
              "      <td>2025-02-04</td>\n",
              "      <td>00:00:00</td>\n",
              "    </tr>\n",
              "    <tr>\n",
              "      <th>3</th>\n",
              "      <td>2025-02-04</td>\n",
              "      <td>2025-02-04</td>\n",
              "      <td>00:00:00</td>\n",
              "    </tr>\n",
              "    <tr>\n",
              "      <th>4</th>\n",
              "      <td>2025-02-04</td>\n",
              "      <td>2025-02-04</td>\n",
              "      <td>00:00:00</td>\n",
              "    </tr>\n",
              "  </tbody>\n",
              "</table>\n",
              "</div>\n",
              "    <div class=\"colab-df-buttons\">\n",
              "\n",
              "  <div class=\"colab-df-container\">\n",
              "    <button class=\"colab-df-convert\" onclick=\"convertToInteractive('df-92049020-04ad-4f6b-b46b-a89d663f0801')\"\n",
              "            title=\"Convert this dataframe to an interactive table.\"\n",
              "            style=\"display:none;\">\n",
              "\n",
              "  <svg xmlns=\"http://www.w3.org/2000/svg\" height=\"24px\" viewBox=\"0 -960 960 960\">\n",
              "    <path d=\"M120-120v-720h720v720H120Zm60-500h600v-160H180v160Zm220 220h160v-160H400v160Zm0 220h160v-160H400v160ZM180-400h160v-160H180v160Zm440 0h160v-160H620v160ZM180-180h160v-160H180v160Zm440 0h160v-160H620v160Z\"/>\n",
              "  </svg>\n",
              "    </button>\n",
              "\n",
              "  <style>\n",
              "    .colab-df-container {\n",
              "      display:flex;\n",
              "      gap: 12px;\n",
              "    }\n",
              "\n",
              "    .colab-df-convert {\n",
              "      background-color: #E8F0FE;\n",
              "      border: none;\n",
              "      border-radius: 50%;\n",
              "      cursor: pointer;\n",
              "      display: none;\n",
              "      fill: #1967D2;\n",
              "      height: 32px;\n",
              "      padding: 0 0 0 0;\n",
              "      width: 32px;\n",
              "    }\n",
              "\n",
              "    .colab-df-convert:hover {\n",
              "      background-color: #E2EBFA;\n",
              "      box-shadow: 0px 1px 2px rgba(60, 64, 67, 0.3), 0px 1px 3px 1px rgba(60, 64, 67, 0.15);\n",
              "      fill: #174EA6;\n",
              "    }\n",
              "\n",
              "    .colab-df-buttons div {\n",
              "      margin-bottom: 4px;\n",
              "    }\n",
              "\n",
              "    [theme=dark] .colab-df-convert {\n",
              "      background-color: #3B4455;\n",
              "      fill: #D2E3FC;\n",
              "    }\n",
              "\n",
              "    [theme=dark] .colab-df-convert:hover {\n",
              "      background-color: #434B5C;\n",
              "      box-shadow: 0px 1px 3px 1px rgba(0, 0, 0, 0.15);\n",
              "      filter: drop-shadow(0px 1px 2px rgba(0, 0, 0, 0.3));\n",
              "      fill: #FFFFFF;\n",
              "    }\n",
              "  </style>\n",
              "\n",
              "    <script>\n",
              "      const buttonEl =\n",
              "        document.querySelector('#df-92049020-04ad-4f6b-b46b-a89d663f0801 button.colab-df-convert');\n",
              "      buttonEl.style.display =\n",
              "        google.colab.kernel.accessAllowed ? 'block' : 'none';\n",
              "\n",
              "      async function convertToInteractive(key) {\n",
              "        const element = document.querySelector('#df-92049020-04ad-4f6b-b46b-a89d663f0801');\n",
              "        const dataTable =\n",
              "          await google.colab.kernel.invokeFunction('convertToInteractive',\n",
              "                                                    [key], {});\n",
              "        if (!dataTable) return;\n",
              "\n",
              "        const docLinkHtml = 'Like what you see? Visit the ' +\n",
              "          '<a target=\"_blank\" href=https://colab.research.google.com/notebooks/data_table.ipynb>data table notebook</a>'\n",
              "          + ' to learn more about interactive tables.';\n",
              "        element.innerHTML = '';\n",
              "        dataTable['output_type'] = 'display_data';\n",
              "        await google.colab.output.renderOutput(dataTable, element);\n",
              "        const docLink = document.createElement('div');\n",
              "        docLink.innerHTML = docLinkHtml;\n",
              "        element.appendChild(docLink);\n",
              "      }\n",
              "    </script>\n",
              "  </div>\n",
              "\n",
              "\n",
              "<div id=\"df-62329c7b-7f7d-423c-8d8e-1b5c893ecc6c\">\n",
              "  <button class=\"colab-df-quickchart\" onclick=\"quickchart('df-62329c7b-7f7d-423c-8d8e-1b5c893ecc6c')\"\n",
              "            title=\"Suggest charts\"\n",
              "            style=\"display:none;\">\n",
              "\n",
              "<svg xmlns=\"http://www.w3.org/2000/svg\" height=\"24px\"viewBox=\"0 0 24 24\"\n",
              "     width=\"24px\">\n",
              "    <g>\n",
              "        <path d=\"M19 3H5c-1.1 0-2 .9-2 2v14c0 1.1.9 2 2 2h14c1.1 0 2-.9 2-2V5c0-1.1-.9-2-2-2zM9 17H7v-7h2v7zm4 0h-2V7h2v10zm4 0h-2v-4h2v4z\"/>\n",
              "    </g>\n",
              "</svg>\n",
              "  </button>\n",
              "\n",
              "<style>\n",
              "  .colab-df-quickchart {\n",
              "      --bg-color: #E8F0FE;\n",
              "      --fill-color: #1967D2;\n",
              "      --hover-bg-color: #E2EBFA;\n",
              "      --hover-fill-color: #174EA6;\n",
              "      --disabled-fill-color: #AAA;\n",
              "      --disabled-bg-color: #DDD;\n",
              "  }\n",
              "\n",
              "  [theme=dark] .colab-df-quickchart {\n",
              "      --bg-color: #3B4455;\n",
              "      --fill-color: #D2E3FC;\n",
              "      --hover-bg-color: #434B5C;\n",
              "      --hover-fill-color: #FFFFFF;\n",
              "      --disabled-bg-color: #3B4455;\n",
              "      --disabled-fill-color: #666;\n",
              "  }\n",
              "\n",
              "  .colab-df-quickchart {\n",
              "    background-color: var(--bg-color);\n",
              "    border: none;\n",
              "    border-radius: 50%;\n",
              "    cursor: pointer;\n",
              "    display: none;\n",
              "    fill: var(--fill-color);\n",
              "    height: 32px;\n",
              "    padding: 0;\n",
              "    width: 32px;\n",
              "  }\n",
              "\n",
              "  .colab-df-quickchart:hover {\n",
              "    background-color: var(--hover-bg-color);\n",
              "    box-shadow: 0 1px 2px rgba(60, 64, 67, 0.3), 0 1px 3px 1px rgba(60, 64, 67, 0.15);\n",
              "    fill: var(--button-hover-fill-color);\n",
              "  }\n",
              "\n",
              "  .colab-df-quickchart-complete:disabled,\n",
              "  .colab-df-quickchart-complete:disabled:hover {\n",
              "    background-color: var(--disabled-bg-color);\n",
              "    fill: var(--disabled-fill-color);\n",
              "    box-shadow: none;\n",
              "  }\n",
              "\n",
              "  .colab-df-spinner {\n",
              "    border: 2px solid var(--fill-color);\n",
              "    border-color: transparent;\n",
              "    border-bottom-color: var(--fill-color);\n",
              "    animation:\n",
              "      spin 1s steps(1) infinite;\n",
              "  }\n",
              "\n",
              "  @keyframes spin {\n",
              "    0% {\n",
              "      border-color: transparent;\n",
              "      border-bottom-color: var(--fill-color);\n",
              "      border-left-color: var(--fill-color);\n",
              "    }\n",
              "    20% {\n",
              "      border-color: transparent;\n",
              "      border-left-color: var(--fill-color);\n",
              "      border-top-color: var(--fill-color);\n",
              "    }\n",
              "    30% {\n",
              "      border-color: transparent;\n",
              "      border-left-color: var(--fill-color);\n",
              "      border-top-color: var(--fill-color);\n",
              "      border-right-color: var(--fill-color);\n",
              "    }\n",
              "    40% {\n",
              "      border-color: transparent;\n",
              "      border-right-color: var(--fill-color);\n",
              "      border-top-color: var(--fill-color);\n",
              "    }\n",
              "    60% {\n",
              "      border-color: transparent;\n",
              "      border-right-color: var(--fill-color);\n",
              "    }\n",
              "    80% {\n",
              "      border-color: transparent;\n",
              "      border-right-color: var(--fill-color);\n",
              "      border-bottom-color: var(--fill-color);\n",
              "    }\n",
              "    90% {\n",
              "      border-color: transparent;\n",
              "      border-bottom-color: var(--fill-color);\n",
              "    }\n",
              "  }\n",
              "</style>\n",
              "\n",
              "  <script>\n",
              "    async function quickchart(key) {\n",
              "      const quickchartButtonEl =\n",
              "        document.querySelector('#' + key + ' button');\n",
              "      quickchartButtonEl.disabled = true;  // To prevent multiple clicks.\n",
              "      quickchartButtonEl.classList.add('colab-df-spinner');\n",
              "      try {\n",
              "        const charts = await google.colab.kernel.invokeFunction(\n",
              "            'suggestCharts', [key], {});\n",
              "      } catch (error) {\n",
              "        console.error('Error during call to suggestCharts:', error);\n",
              "      }\n",
              "      quickchartButtonEl.classList.remove('colab-df-spinner');\n",
              "      quickchartButtonEl.classList.add('colab-df-quickchart-complete');\n",
              "    }\n",
              "    (() => {\n",
              "      let quickchartButtonEl =\n",
              "        document.querySelector('#df-62329c7b-7f7d-423c-8d8e-1b5c893ecc6c button');\n",
              "      quickchartButtonEl.style.display =\n",
              "        google.colab.kernel.accessAllowed ? 'block' : 'none';\n",
              "    })();\n",
              "  </script>\n",
              "</div>\n",
              "\n",
              "    </div>\n",
              "  </div>\n"
            ],
            "application/vnd.google.colaboratory.intrinsic+json": {
              "type": "dataframe",
              "summary": "{\n  \"name\": \"df[['date', 'date_only', 'time_only']]\",\n  \"rows\": 5,\n  \"fields\": [\n    {\n      \"column\": \"date\",\n      \"properties\": {\n        \"dtype\": \"date\",\n        \"min\": \"2025-02-04 00:00:00\",\n        \"max\": \"2025-02-04 00:00:00\",\n        \"num_unique_values\": 1,\n        \"samples\": [\n          \"2025-02-04 00:00:00\"\n        ],\n        \"semantic_type\": \"\",\n        \"description\": \"\"\n      }\n    },\n    {\n      \"column\": \"date_only\",\n      \"properties\": {\n        \"dtype\": \"date\",\n        \"min\": \"2025-02-04\",\n        \"max\": \"2025-02-04\",\n        \"num_unique_values\": 1,\n        \"samples\": [\n          \"2025-02-04\"\n        ],\n        \"semantic_type\": \"\",\n        \"description\": \"\"\n      }\n    },\n    {\n      \"column\": \"time_only\",\n      \"properties\": {\n        \"dtype\": \"category\",\n        \"num_unique_values\": 1,\n        \"samples\": [\n          \"00:00:00\"\n        ],\n        \"semantic_type\": \"\",\n        \"description\": \"\"\n      }\n    }\n  ]\n}"
            }
          },
          "metadata": {},
          "execution_count": 5
        }
      ]
    },
    {
      "cell_type": "code",
      "source": [
        "# Create separate numerical time features\n",
        "df['hour'] = df['date'].dt.hour\n",
        "df['minute'] = df['date'].dt.minute\n",
        "df['second'] = df['date'].dt.second\n",
        "df['month'] = df['date'].dt.month\n",
        "df['year'] = df['date'].dt.year\n",
        "df['day_of_week'] = df['date'].dt.dayofweek"
      ],
      "metadata": {
        "id": "JpPyNxElYtoB"
      },
      "execution_count": null,
      "outputs": []
    },
    {
      "cell_type": "code",
      "source": [
        "#df['date'] = pd.to_datetime(df['date'], errors='coerce').dt.date  # Remove time\n",
        "data = df[(df['date_only'] >= pd.to_datetime('2019-01-01').date()) & (df['date_only'] <= pd.to_datetime('2024-12-31').date())]\n"
      ],
      "metadata": {
        "id": "HqqXJmofEgeb"
      },
      "execution_count": null,
      "outputs": []
    },
    {
      "cell_type": "code",
      "source": [
        "data.shape"
      ],
      "metadata": {
        "colab": {
          "base_uri": "https://localhost:8080/"
        },
        "id": "PEgL6qnvGHDI",
        "outputId": "0f000cf2-c07e-41fc-dd71-e9e14b3b7ed8"
      },
      "execution_count": null,
      "outputs": [
        {
          "output_type": "execute_result",
          "data": {
            "text/plain": [
              "(1443215, 29)"
            ]
          },
          "metadata": {},
          "execution_count": 8
        }
      ]
    },
    {
      "cell_type": "code",
      "source": [
        "columns_nullverify = ['date_only', 'primary_type', 'arrest', 'domestic']\n",
        "null_values = data[columns_nullverify].isnull().sum()\n",
        "print(null_values)\n"
      ],
      "metadata": {
        "colab": {
          "base_uri": "https://localhost:8080/"
        },
        "id": "ofM_ntD9paK-",
        "outputId": "1c8056bb-3c4f-4449-e608-0ce86c1f7ba6"
      },
      "execution_count": null,
      "outputs": [
        {
          "output_type": "stream",
          "name": "stdout",
          "text": [
            "date_only       0\n",
            "primary_type    0\n",
            "arrest          0\n",
            "domestic        0\n",
            "dtype: int64\n"
          ]
        }
      ]
    },
    {
      "cell_type": "markdown",
      "source": [
        "Exploratory Data Analysis (EDA)"
      ],
      "metadata": {
        "id": "qee32gb9IV_H"
      }
    },
    {
      "cell_type": "markdown",
      "source": [
        "1. Crime trends over time\n",
        "\n"
      ],
      "metadata": {
        "id": "rdf0s_3ELjfc"
      }
    },
    {
      "cell_type": "code",
      "source": [
        "data.groupby('year')['id'].count().plot(kind='line', marker='o', color='blue', figsize=(10, 5))\n",
        "plt.title(\"Crime Count Per Year\")\n",
        "plt.xlabel(\"Year\")\n",
        "plt.ylabel(\"Number of Crimes\")\n",
        "plt.show()\n"
      ],
      "metadata": {
        "colab": {
          "base_uri": "https://localhost:8080/",
          "height": 487
        },
        "id": "kXPji8_CTzRe",
        "outputId": "70bfc222-ef18-46ea-85da-eae824f8f0a7"
      },
      "execution_count": null,
      "outputs": [
        {
          "output_type": "display_data",
          "data": {
            "text/plain": [
              "<Figure size 1000x500 with 1 Axes>"
            ],
            "image/png": "[encoded data removed]"
          },
          "metadata": {}
        }
      ]
    },
    {
      "cell_type": "markdown",
      "source": [
        "From the above plot we can notice that there is a decline in crime from over 260,000 crimes in 2019 to around 210,000 in 2021. This drop could be attributed to factors like the COVID-19 pandemic or policy changes. However, crime rates surged again from 2021, peaking in 2023 before slightly decreasing in 2024.\n",
        "\n",
        "\n",
        "\n",
        "\n",
        "\n",
        "\n",
        "\n"
      ],
      "metadata": {
        "id": "6-GsPOt9NSt4"
      }
    },
    {
      "cell_type": "markdown",
      "source": [
        "2. Hourly Crime Rate Analysis"
      ],
      "metadata": {
        "id": "RFJ_M7pD39Dl"
      }
    },
    {
      "cell_type": "code",
      "source": [
        "import matplotlib.pyplot as plt\n",
        "data['hour'] = data['time_only'].apply(lambda x: x.hour if pd.notnull(x) else None)\n",
        "hourly_crime_rate = data.groupby('hour')['id'].count()\n",
        "plt.figure(figsize=(10, 5))\n",
        "hourly_crime_rate.plot(kind='bar', color='coral')\n",
        "plt.title(\"Crime Rate by Hour of the Day\")\n",
        "plt.xlabel(\"Hour of the Day\")\n",
        "plt.ylabel(\"Number of Crimes\")\n",
        "plt.xticks(rotation=0)\n",
        "plt.show()\n"
      ],
      "metadata": {
        "colab": {
          "base_uri": "https://localhost:8080/",
          "height": 596
        },
        "id": "LmtblRiC2VUe",
        "outputId": "44c43f38-0a81-4ee4-d95a-27ab56c771ff"
      },
      "execution_count": null,
      "outputs": [
        {
          "output_type": "stream",
          "name": "stderr",
          "text": [
            "<ipython-input-11-ceabdf8b48b6>:2: SettingWithCopyWarning: \n",
            "A value is trying to be set on a copy of a slice from a DataFrame.\n",
            "Try using .loc[row_indexer,col_indexer] = value instead\n",
            "\n",
            "See the caveats in the documentation: https://pandas.pydata.org/pandas-docs/stable/user_guide/indexing.html#returning-a-view-versus-a-copy\n",
            "  data['hour'] = data['time_only'].apply(lambda x: x.hour if pd.notnull(x) else None)\n"
          ]
        },
        {
          "output_type": "display_data",
          "data": {
            "text/plain": [
              "<Figure size 1000x500 with 1 Axes>"
            ],
            "image/png": "[encoded data removed]"
          },
          "metadata": {}
        }
      ]
    },
    {
      "cell_type": "markdown",
      "source": [
        "From the above graph we can infer that the crime incidents peak around midnight and noon. Early morning hours experience the lowest crime rates, followed by a steady increase as the day progresses. The evening hours remain consistently high, suggesting increased criminal activity during that period, possibly due to higher public movement and social interactions."
      ],
      "metadata": {
        "id": "37wmeKrt5buk"
      }
    },
    {
      "cell_type": "markdown",
      "source": [
        "3. Arrest Rate Over Time"
      ],
      "metadata": {
        "id": "NwW-I3FNP9I_"
      }
    },
    {
      "cell_type": "code",
      "source": [
        "import matplotlib.pyplot as plt\n",
        "arrest_rate = data.groupby('year')['arrest'].mean()\n",
        "arrest_rate.plot(kind='line', marker='o', color='blue', figsize=(10, 5))\n",
        "plt.title(\"Arrest Rate Over Years\")\n",
        "plt.xlabel(\"Year\")\n",
        "plt.ylabel(\"Arrest Rate (%)\")\n",
        "plt.show()\n"
      ],
      "metadata": {
        "colab": {
          "base_uri": "https://localhost:8080/",
          "height": 487
        },
        "id": "4AaHXdSlUCJQ",
        "outputId": "a55a1fb0-7d57-4529-b459-e1832bc21193"
      },
      "execution_count": null,
      "outputs": [
        {
          "output_type": "display_data",
          "data": {
            "text/plain": [
              "<Figure size 1000x500 with 1 Axes>"
            ],
            "image/png": "[encoded data removed]"
          },
          "metadata": {}
        }
      ]
    },
    {
      "cell_type": "markdown",
      "source": [
        "The Arrest Rate Over Years significant declined from over 0.20% in 2019 to around 0.12% in 2022. However, from 2022 onwards, the arrest rate shows a slight upward trend, reaching approximately 0.14% in 2024."
      ],
      "metadata": {
        "id": "RUURqAwl9SIJ"
      }
    },
    {
      "cell_type": "markdown",
      "source": [
        "4. Top 5 Crime Locations."
      ],
      "metadata": {
        "id": "vP2bXekmKyFe"
      }
    },
    {
      "cell_type": "code",
      "source": [
        "plt.figure(figsize=(12, 5))\n",
        "ax = data['location_description'].value_counts().head(5).plot(kind='bar', color='darkblue', edgecolor='black')\n",
        "ax.yaxis.set_major_locator(MaxNLocator(integer=True))  # Forces integer ticks on y-axis\n",
        "plt.title(\"Top 5 Crime Locations\")\n",
        "plt.xlabel(\"Location Type\")\n",
        "plt.ylabel(\"Number of Crimes\")\n",
        "plt.xticks(rotation=45)\n",
        "plt.show()\n"
      ],
      "metadata": {
        "colab": {
          "base_uri": "https://localhost:8080/",
          "height": 588
        },
        "id": "zQloU087KHbA",
        "outputId": "65b0b0fa-328e-44d8-d4ec-fb4adb01a92b"
      },
      "execution_count": null,
      "outputs": [
        {
          "output_type": "display_data",
          "data": {
            "text/plain": [
              "<Figure size 1200x500 with 1 Axes>"
            ],
            "image/png": "[encoded data removed]"
          },
          "metadata": {}
        }
      ]
    },
    {
      "cell_type": "markdown",
      "source": [
        "The bar chart indicates that the highest number of crimes occurred on the streets."
      ],
      "metadata": {
        "id": "Gkfwsmif9QrC"
      }
    },
    {
      "cell_type": "markdown",
      "source": [
        "5. Domestic vs. Non-Domestic Crimes\n",
        "\n"
      ],
      "metadata": {
        "id": "yK7gp6t2QOI2"
      }
    },
    {
      "cell_type": "code",
      "source": [
        "plt.figure(figsize=(7, 7))\n",
        "data['domestic'].value_counts().plot(\n",
        "    kind='pie',\n",
        "    autopct='%1.1f%%',\n",
        "    startangle=90,\n",
        ")\n",
        "plt.title(\"Domestic vs. Non-Domestic Crimes\")\n",
        "plt.show()\n"
      ],
      "metadata": {
        "colab": {
          "base_uri": "https://localhost:8080/",
          "height": 598
        },
        "id": "L5apPe-XPCT0",
        "outputId": "9800301b-cd1c-4066-d3e9-5f8b7656f562"
      },
      "execution_count": null,
      "outputs": [
        {
          "output_type": "display_data",
          "data": {
            "text/plain": [
              "<Figure size 700x700 with 1 Axes>"
            ],
            "image/png": "[encoded data removed]"
          },
          "metadata": {}
        }
      ]
    },
    {
      "cell_type": "markdown",
      "source": [
        "Arrest Prediction"
      ],
      "metadata": {
        "id": "GrMZnjp-5wmh"
      }
    },
    {
      "cell_type": "code",
      "source": [
        "from sklearn.model_selection import train_test_split\n",
        "from sklearn.linear_model import LogisticRegression\n",
        "from sklearn.ensemble import RandomForestClassifier\n",
        "from sklearn.tree import DecisionTreeClassifier\n",
        "from xgboost import XGBClassifier\n",
        "from lightgbm import LGBMClassifier\n",
        "from sklearn.metrics import accuracy_score, classification_report, confusion_matrix\n",
        "from sklearn.preprocessing import LabelEncoder"
      ],
      "metadata": {
        "id": "4xZ5GcqZNuKE",
        "colab": {
          "base_uri": "https://localhost:8080/"
        },
        "outputId": "f403e4a0-b118-4633-9377-1b7580f98a65"
      },
      "execution_count": null,
      "outputs": [
        {
          "output_type": "stream",
          "name": "stderr",
          "text": [
            "/usr/local/lib/python3.11/dist-packages/dask/dataframe/__init__.py:42: FutureWarning: \n",
            "Dask dataframe query planning is disabled because dask-expr is not installed.\n",
            "\n",
            "You can install it with `pip install dask[dataframe]` or `conda install dask`.\n",
            "This will raise in a future version.\n",
            "\n",
            "  warnings.warn(msg, FutureWarning)\n"
          ]
        }
      ]
    },
    {
      "cell_type": "markdown",
      "source": [
        "Considering only top three locations - Streets , Apartment and Residence"
      ],
      "metadata": {
        "id": "rUDv9MIYpuf1"
      }
    },
    {
      "cell_type": "code",
      "source": [
        "data = data[data['location_description'].str.contains('Street|Apartment|Residence', case=False, na=False)]"
      ],
      "metadata": {
        "id": "P00ZmUZPWZex"
      },
      "execution_count": null,
      "outputs": []
    },
    {
      "cell_type": "code",
      "source": [
        "data.shape"
      ],
      "metadata": {
        "colab": {
          "base_uri": "https://localhost:8080/"
        },
        "id": "PW6HKT3c2N7u",
        "outputId": "75337f87-5e97-45c9-946f-a3ddfaaa645a"
      },
      "execution_count": null,
      "outputs": [
        {
          "output_type": "execute_result",
          "data": {
            "text/plain": [
              "(897132, 29)"
            ]
          },
          "metadata": {},
          "execution_count": 17
        }
      ]
    },
    {
      "cell_type": "code",
      "source": [
        "columns_to_keep = ['primary_type', 'location_description', 'district', 'arrest', 'year', 'domestic', 'hour', 'month']\n",
        "data = data[columns_to_keep]\n",
        "\n",
        "categorical_cols = ['primary_type', 'location_description','arrest', 'year','domestic','month']\n",
        "label_encoders = {}\n",
        "for col in categorical_cols:\n",
        "    label_encoders[col] = LabelEncoder()\n",
        "    data[col] = label_encoders[col].fit_transform(data[col].astype(str))"
      ],
      "metadata": {
        "id": "aSDm3aEdEcQJ"
      },
      "execution_count": null,
      "outputs": []
    },
    {
      "cell_type": "code",
      "source": [
        "if 'arrest' in data.columns:\n",
        "    data['arrest'] = data['arrest'].astype(bool)\n",
        "if 'domestic' in data.columns:\n",
        "    data['domestic'] = data['domestic'].astype(bool)"
      ],
      "metadata": {
        "id": "f-qnREDsTTIp"
      },
      "execution_count": null,
      "outputs": []
    },
    {
      "cell_type": "code",
      "source": [
        "# Check class distribution\n",
        "class_distribution = data['arrest'].value_counts()\n",
        "print(\"Class Distribution:\\n\", class_distribution)\n"
      ],
      "metadata": {
        "colab": {
          "base_uri": "https://localhost:8080/"
        },
        "id": "ku8YHgqf8P2M",
        "outputId": "0209faf7-d9bb-4c1c-d4d3-e76c7e046a57"
      },
      "execution_count": null,
      "outputs": [
        {
          "output_type": "stream",
          "name": "stdout",
          "text": [
            "Class Distribution:\n",
            " arrest\n",
            "False    787131\n",
            "True     110001\n",
            "Name: count, dtype: int64\n"
          ]
        }
      ]
    },
    {
      "cell_type": "markdown",
      "source": [
        "The dataset exhibits an imbalance, with significantly more False cases (787,131) than True cases (110,001). To address this issue and ensure better model performance, the SMOTE (Synthetic Minority Over-sampling Technique) was applied to balance the dataset by generating synthetic samples for the minority class. This helps improve the model’s ability to learn from both classes effectively."
      ],
      "metadata": {
        "id": "KspRMi5SJ7V1"
      }
    },
    {
      "cell_type": "code",
      "source": [
        "# Define features & target variable\n",
        "X = data.drop(columns=['arrest'])\n",
        "y = data['arrest']"
      ],
      "metadata": {
        "id": "pYokMzywPNxT"
      },
      "execution_count": null,
      "outputs": []
    },
    {
      "cell_type": "code",
      "source": [
        "from imblearn.over_sampling import SMOTE\n",
        "# Apply SMOTE to balance the dataset\n",
        "smote = SMOTE(random_state=42)\n",
        "X_resampled, y_resampled = smote.fit_resample(X, y)"
      ],
      "metadata": {
        "id": "8Q0FzhI0aBgX"
      },
      "execution_count": null,
      "outputs": []
    },
    {
      "cell_type": "code",
      "source": [
        "# Print class distribution after undersampling\n",
        "print(\"Class distribution after smote :\\n\", pd.Series(y_resampled).value_counts())"
      ],
      "metadata": {
        "colab": {
          "base_uri": "https://localhost:8080/"
        },
        "id": "6YpwB-ASUsAj",
        "outputId": "17c7d8c0-bb1a-4abd-a278-bf7700ae776d"
      },
      "execution_count": null,
      "outputs": [
        {
          "output_type": "stream",
          "name": "stdout",
          "text": [
            "Class distribution after smote :\n",
            " arrest\n",
            "False    787131\n",
            "True     787131\n",
            "Name: count, dtype: int64\n"
          ]
        }
      ]
    },
    {
      "cell_type": "code",
      "source": [
        "# Train-Test Split with balanced data\n",
        "X_train, X_test, y_train, y_test = train_test_split(X_resampled, y_resampled, test_size=0.2, random_state=42, stratify=y_resampled)"
      ],
      "metadata": {
        "id": "XoHSccfqPBJa"
      },
      "execution_count": null,
      "outputs": []
    },
    {
      "cell_type": "code",
      "source": [
        "model_0 = LogisticRegression(max_iter=1000, random_state=42)\n",
        "model_0.fit(X_train, y_train)\n",
        "y_pred = model_0.predict(X_test)\n",
        "accuracy = accuracy_score(y_test, y_pred)"
      ],
      "metadata": {
        "id": "qgOgsi2JUZeX"
      },
      "execution_count": null,
      "outputs": []
    },
    {
      "cell_type": "code",
      "source": [
        "print(f\"\\nLogistic Regression Model:\")\n",
        "print(\"Accuracy:\", accuracy)\n",
        "print(\"Classification Report:\\n\", classification_report(y_test, y_pred))\n",
        "print(\"Confusion Matrix:\\n\", confusion_matrix(y_test, y_pred))\n"
      ],
      "metadata": {
        "colab": {
          "base_uri": "https://localhost:8080/"
        },
        "id": "2a9Z5OrdVtyv",
        "outputId": "f9dceb86-0e8d-455f-b933-e49757ac2b9b"
      },
      "execution_count": null,
      "outputs": [
        {
          "output_type": "stream",
          "name": "stdout",
          "text": [
            "\n",
            "Logistic Regression Model:\n",
            "Accuracy: 0.6016204387444299\n",
            "Classification Report:\n",
            "               precision    recall  f1-score   support\n",
            "\n",
            "       False       0.60      0.60      0.60    157427\n",
            "        True       0.60      0.60      0.60    157426\n",
            "\n",
            "    accuracy                           0.60    314853\n",
            "   macro avg       0.60      0.60      0.60    314853\n",
            "weighted avg       0.60      0.60      0.60    314853\n",
            "\n",
            "Confusion Matrix:\n",
            " [[94500 62927]\n",
            " [62504 94922]]\n"
          ]
        }
      ]
    },
    {
      "cell_type": "code",
      "source": [
        "model_1 = RandomForestClassifier(n_estimators=100, random_state=42)\n",
        "model_1.fit(X_train, y_train)\n",
        "y_pred = model_1.predict(X_test)\n",
        "accuracy = accuracy_score(y_test, y_pred)"
      ],
      "metadata": {
        "id": "gXvVC62ZWCSN"
      },
      "execution_count": null,
      "outputs": []
    },
    {
      "cell_type": "code",
      "source": [
        "print(f\"\\nRandom Forest Model:\")\n",
        "print(\"Accuracy:\", accuracy)\n",
        "print(\"Classification Report:\\n\", classification_report(y_test, y_pred))\n",
        "print(\"Confusion Matrix:\\n\", confusion_matrix(y_test, y_pred))"
      ],
      "metadata": {
        "colab": {
          "base_uri": "https://localhost:8080/"
        },
        "id": "9uZwPM_jWfSa",
        "outputId": "042f18b9-c5e7-4dc9-b26c-5c1cd6cc1b9b"
      },
      "execution_count": null,
      "outputs": [
        {
          "output_type": "stream",
          "name": "stdout",
          "text": [
            "\n",
            "Random Forest Model:\n",
            "Accuracy: 0.9079030531708449\n",
            "Classification Report:\n",
            "               precision    recall  f1-score   support\n",
            "\n",
            "       False       0.92      0.89      0.91    157427\n",
            "        True       0.90      0.92      0.91    157426\n",
            "\n",
            "    accuracy                           0.91    314853\n",
            "   macro avg       0.91      0.91      0.91    314853\n",
            "weighted avg       0.91      0.91      0.91    314853\n",
            "\n",
            "Confusion Matrix:\n",
            " [[140667  16760]\n",
            " [ 12237 145189]]\n"
          ]
        }
      ]
    },
    {
      "cell_type": "code",
      "source": [
        "model_2 = XGBClassifier(eval_metric='logloss', random_state=42)\n",
        "model_2.fit(X_train, y_train)\n",
        "y_pred = model_2.predict(X_test)\n",
        "accuracy = accuracy_score(y_test, y_pred)"
      ],
      "metadata": {
        "id": "BWiOwql0XZXF"
      },
      "execution_count": null,
      "outputs": []
    },
    {
      "cell_type": "code",
      "source": [
        "print(f\"\\n XG-Boost Model:\")\n",
        "print(\"Accuracy:\", accuracy)\n",
        "print(\"Classification Report:\\n\", classification_report(y_test, y_pred))\n",
        "print(\"Confusion Matrix:\\n\", confusion_matrix(y_test, y_pred))"
      ],
      "metadata": {
        "colab": {
          "base_uri": "https://localhost:8080/"
        },
        "id": "FvJPsYfGXvOS",
        "outputId": "f60592f9-85bc-4e15-f437-07befcf109e2"
      },
      "execution_count": null,
      "outputs": [
        {
          "output_type": "stream",
          "name": "stdout",
          "text": [
            "\n",
            " XG-Boost Model:\n",
            "Accuracy: 0.8403540699945689\n",
            "Classification Report:\n",
            "               precision    recall  f1-score   support\n",
            "\n",
            "       False       0.83      0.85      0.84    157427\n",
            "        True       0.85      0.83      0.84    157426\n",
            "\n",
            "    accuracy                           0.84    314853\n",
            "   macro avg       0.84      0.84      0.84    314853\n",
            "weighted avg       0.84      0.84      0.84    314853\n",
            "\n",
            "Confusion Matrix:\n",
            " [[133901  23526]\n",
            " [ 26739 130687]]\n"
          ]
        }
      ]
    },
    {
      "cell_type": "code",
      "source": [
        "model_3 = LGBMClassifier(random_state=42)\n",
        "model_3.fit(X_train, y_train)\n",
        "y_pred = model_3.predict(X_test)\n",
        "accuracy = accuracy_score(y_test, y_pred)\n"
      ],
      "metadata": {
        "colab": {
          "base_uri": "https://localhost:8080/"
        },
        "id": "TKbIOTAhYLUm",
        "outputId": "8c1aae03-e0ba-4501-c3ed-a704664b8f0a"
      },
      "execution_count": null,
      "outputs": [
        {
          "output_type": "stream",
          "name": "stdout",
          "text": [
            "[LightGBM] [Info] Number of positive: 629705, number of negative: 629704\n",
            "[LightGBM] [Info] Auto-choosing row-wise multi-threading, the overhead of testing was 0.036057 seconds.\n",
            "You can set `force_row_wise=true` to remove the overhead.\n",
            "And if memory is not enough, you can set `force_col_wise=true`.\n",
            "[LightGBM] [Info] Total Bins 342\n",
            "[LightGBM] [Info] Number of data points in the train set: 1259409, number of used features: 7\n",
            "[LightGBM] [Info] [binary:BoostFromScore]: pavg=0.500000 -> initscore=0.000002\n",
            "[LightGBM] [Info] Start training from score 0.000002\n"
          ]
        }
      ]
    },
    {
      "cell_type": "code",
      "source": [
        "print(f\"\\n LightGBM Model:\")\n",
        "print(\"Accuracy:\", accuracy)\n",
        "print(\"Classification Report:\\n\", classification_report(y_test, y_pred))\n",
        "print(\"Confusion Matrix:\\n\", confusion_matrix(y_test, y_pred))"
      ],
      "metadata": {
        "colab": {
          "base_uri": "https://localhost:8080/"
        },
        "id": "Nb0r_HRdYYjG",
        "outputId": "7cee5113-33b4-4432-8f71-5e9e81d7ca3e"
      },
      "execution_count": null,
      "outputs": [
        {
          "output_type": "stream",
          "name": "stdout",
          "text": [
            "\n",
            " LightGBM Model:\n",
            "Accuracy: 0.8450229154557841\n",
            "Classification Report:\n",
            "               precision    recall  f1-score   support\n",
            "\n",
            "       False       0.84      0.86      0.85    157427\n",
            "        True       0.85      0.83      0.84    157426\n",
            "\n",
            "    accuracy                           0.85    314853\n",
            "   macro avg       0.85      0.85      0.84    314853\n",
            "weighted avg       0.85      0.85      0.84    314853\n",
            "\n",
            "Confusion Matrix:\n",
            " [[135075  22352]\n",
            " [ 26443 130983]]\n"
          ]
        }
      ]
    },
    {
      "cell_type": "code",
      "source": [
        "model_4 = DecisionTreeClassifier(random_state=42)\n",
        "model_4.fit(X_train, y_train)\n",
        "y_pred = model_4.predict(X_test)\n",
        "accuracy = accuracy_score(y_test, y_pred)\n",
        "\n"
      ],
      "metadata": {
        "id": "3kiHFXjxHPEf"
      },
      "execution_count": null,
      "outputs": []
    },
    {
      "cell_type": "code",
      "source": [
        "print(f\"\\n Decision Tree Model:\")\n",
        "print(\" Accuracy:\", accuracy)\n",
        "print(\"Classification Report:\\n\", classification_report(y_test, y_pred))\n",
        "print(\"Confusion Matrix:\\n\", confusion_matrix(y_test, y_pred))"
      ],
      "metadata": {
        "colab": {
          "base_uri": "https://localhost:8080/"
        },
        "id": "GcqPfVZaHPf8",
        "outputId": "8031afd1-dc18-4f30-e53f-cee0c03a05c4"
      },
      "execution_count": null,
      "outputs": [
        {
          "output_type": "stream",
          "name": "stdout",
          "text": [
            "\n",
            " Decision Tree Model:\n",
            " Accuracy: 0.8963960959558905\n",
            "Classification Report:\n",
            "               precision    recall  f1-score   support\n",
            "\n",
            "       False       0.91      0.88      0.89    157427\n",
            "        True       0.88      0.92      0.90    157426\n",
            "\n",
            "    accuracy                           0.90    314853\n",
            "   macro avg       0.90      0.90      0.90    314853\n",
            "weighted avg       0.90      0.90      0.90    314853\n",
            "\n",
            "Confusion Matrix:\n",
            " [[138145  19282]\n",
            " [ 13338 144088]]\n"
          ]
        }
      ]
    },
    {
      "cell_type": "markdown",
      "source": [
        "Best Model"
      ],
      "metadata": {
        "id": "aqfwmAvjI1RT"
      }
    },
    {
      "cell_type": "code",
      "source": [
        "best_model = model_1\n",
        "y_pred_best = best_model.predict(X_test)\n",
        "accuracy_best = accuracy_score(y_test, y_pred_best)\n",
        "print(\"\\nBest Model: Random Forest\")\n",
        "print(\"Accuracy:\", accuracy_best)\n",
        "print(\"Classification Report:\\n\", classification_report(y_test, y_pred_best))\n",
        "print(\"Confusion Matrix:\\n\", confusion_matrix(y_test, y_pred_best))\n"
      ],
      "metadata": {
        "colab": {
          "base_uri": "https://localhost:8080/"
        },
        "id": "1DRGyztIC2r7",
        "outputId": "97d06be0-449a-4705-e548-481fe2b90b27"
      },
      "execution_count": null,
      "outputs": [
        {
          "output_type": "stream",
          "name": "stdout",
          "text": [
            "\n",
            "Best Model: Random Forest\n",
            "Accuracy: 0.9079030531708449\n",
            "Classification Report:\n",
            "               precision    recall  f1-score   support\n",
            "\n",
            "       False       0.92      0.89      0.91    157427\n",
            "        True       0.90      0.92      0.91    157426\n",
            "\n",
            "    accuracy                           0.91    314853\n",
            "   macro avg       0.91      0.91      0.91    314853\n",
            "weighted avg       0.91      0.91      0.91    314853\n",
            "\n",
            "Confusion Matrix:\n",
            " [[140667  16760]\n",
            " [ 12237 145189]]\n"
          ]
        }
      ]
    },
    {
      "cell_type": "markdown",
      "source": [
        "After testing multiple models, Random Forest emerged as the best-performing model, achieving an accuracy of 90.79%. The model was evaluated using precision, recall, F1-score, and a confusion matrix to ensure reliable predictions."
      ],
      "metadata": {
        "id": "whemUf4shDui"
      }
    },
    {
      "cell_type": "code",
      "source": [],
      "metadata": {
        "id": "6ov6EYBFd3wj"
      },
      "execution_count": null,
      "outputs": []
    },
    {
      "cell_type": "code",
      "source": [],
      "metadata": {
        "id": "UT8oXO-IiiOF"
      },
      "execution_count": null,
      "outputs": []
    }
  ]
}